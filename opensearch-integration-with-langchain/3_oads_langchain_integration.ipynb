{
 "cells": [
  {
   "cell_type": "markdown",
   "id": "cfdd5bda",
   "metadata": {},
   "source": [
    "OCI OpenSearch Service sample notebook.\n",
    "\n",
    "Copyright (c) 2024 Oracle, Inc. All rights reserved. Licensed under the [Universal Permissive License (UPL) v 1.0](https://oss.oracle.com/licenses/upl/)."
   ]
  },
  {
   "cell_type": "markdown",
   "id": "822b01f7-7a21-457e-94e0-e61359a1d6ba",
   "metadata": {},
   "source": [
    "### OCI Data Science - Useful Tips\n",
    "<details>\n",
    "<summary><font size=\"2\">Check for Public Internet Access</font></summary>\n",
    "\n",
    "```python\n",
    "import requests\n",
    "response = requests.get(\"https://oracle.com\")\n",
    "assert response.status_code==200, \"Internet connection failed\"\n",
    "```\n",
    "</details>\n",
    "<details>\n",
    "<summary><font size=\"2\">Helpful Documentation </font></summary>\n",
    "<ul><li><a href=\"https://docs.cloud.oracle.com/en-us/iaas/data-science/using/data-science.htm\">Data Science Service Documentation</a></li>\n",
    "<li><a href=\"https://docs.cloud.oracle.com/iaas/tools/ads-sdk/latest/index.html\">ADS documentation</a></li>\n",
    "</ul>\n",
    "</details>\n",
    "<details>\n",
    "<summary><font size=\"2\">Typical Cell Imports and Settings for ADS</font></summary>\n",
    "\n",
    "```python\n",
    "%load_ext autoreload\n",
    "%autoreload 2\n",
    "%matplotlib inline\n",
    "\n",
    "import warnings\n",
    "warnings.filterwarnings('ignore')\n",
    "\n",
    "import logging\n",
    "logging.basicConfig(format='%(levelname)s:%(message)s', level=logging.ERROR)\n",
    "\n",
    "import ads\n",
    "from ads.dataset.factory import DatasetFactory\n",
    "from ads.automl.provider import OracleAutoMLProvider\n",
    "from ads.automl.driver import AutoML\n",
    "from ads.evaluations.evaluator import ADSEvaluator\n",
    "from ads.common.data import ADSData\n",
    "from ads.explanations.explainer import ADSExplainer\n",
    "from ads.explanations.mlx_global_explainer import MLXGlobalExplainer\n",
    "from ads.explanations.mlx_local_explainer import MLXLocalExplainer\n",
    "from ads.catalog.model import ModelCatalog\n",
    "from ads.common.model_artifact import ModelArtifact\n",
    "```\n",
    "</details>\n",
    "<details>\n",
    "<summary><font size=\"2\">Useful Environment Variables</font></summary>\n",
    "\n",
    "```python\n",
    "import os\n",
    "print(os.environ[\"NB_SESSION_COMPARTMENT_OCID\"])\n",
    "print(os.environ[\"PROJECT_OCID\"])\n",
    "print(os.environ[\"USER_OCID\"])\n",
    "print(os.environ[\"TENANCY_OCID\"])\n",
    "print(os.environ[\"NB_REGION\"])\n",
    "```\n",
    "</details>"
   ]
  },
  {
   "cell_type": "code",
   "execution_count": 1,
   "id": "0743f70e-7d80-4bc1-85c3-37452f8dd096",
   "metadata": {
    "tags": []
   },
   "outputs": [
    {
     "name": "stdout",
     "output_type": "stream",
     "text": [
      "Requirement already satisfied: langchain in ./conda/python_p310_any_x86_64_v1/lib/python3.10/site-packages (0.3.7)\n",
      "Requirement already satisfied: langchain-community in ./conda/python_p310_any_x86_64_v1/lib/python3.10/site-packages (0.3.7)\n",
      "Requirement already satisfied: opensearch-py in ./conda/python_p310_any_x86_64_v1/lib/python3.10/site-packages (2.7.1)\n",
      "Requirement already satisfied: pypdf in ./conda/python_p310_any_x86_64_v1/lib/python3.10/site-packages (5.1.0)\n",
      "Requirement already satisfied: huggingface_hub in ./conda/python_p310_any_x86_64_v1/lib/python3.10/site-packages (0.26.2)\n",
      "Requirement already satisfied: transformers in ./conda/python_p310_any_x86_64_v1/lib/python3.10/site-packages (4.46.3)\n",
      "Requirement already satisfied: sentence-transformers in ./conda/python_p310_any_x86_64_v1/lib/python3.10/site-packages (3.3.1)\n",
      "Requirement already satisfied: oci in ./conda/python_p310_any_x86_64_v1/lib/python3.10/site-packages (2.139.0)\n",
      "Requirement already satisfied: langchain-huggingface in ./conda/python_p310_any_x86_64_v1/lib/python3.10/site-packages (0.1.2)\n",
      "Requirement already satisfied: oracle_ads in ./conda/python_p310_any_x86_64_v1/lib/python3.10/site-packages (2.12.7)\n",
      "Requirement already satisfied: PyYAML>=5.3 in ./conda/python_p310_any_x86_64_v1/lib/python3.10/site-packages (from langchain) (6.0.1)\n",
      "Requirement already satisfied: SQLAlchemy<3,>=1.4 in ./conda/python_p310_any_x86_64_v1/lib/python3.10/site-packages (from langchain) (2.0.35)\n",
      "Requirement already satisfied: aiohttp<4.0.0,>=3.8.3 in ./conda/python_p310_any_x86_64_v1/lib/python3.10/site-packages (from langchain) (3.11.2)\n",
      "Requirement already satisfied: async-timeout<5.0.0,>=4.0.0 in ./conda/python_p310_any_x86_64_v1/lib/python3.10/site-packages (from langchain) (4.0.3)\n",
      "Requirement already satisfied: langchain-core<0.4.0,>=0.3.15 in ./conda/python_p310_any_x86_64_v1/lib/python3.10/site-packages (from langchain) (0.3.19)\n",
      "Requirement already satisfied: langchain-text-splitters<0.4.0,>=0.3.0 in ./conda/python_p310_any_x86_64_v1/lib/python3.10/site-packages (from langchain) (0.3.2)\n",
      "Requirement already satisfied: langsmith<0.2.0,>=0.1.17 in ./conda/python_p310_any_x86_64_v1/lib/python3.10/site-packages (from langchain) (0.1.143)\n",
      "Requirement already satisfied: numpy<2,>=1 in ./conda/python_p310_any_x86_64_v1/lib/python3.10/site-packages (from langchain) (1.26.4)\n",
      "Requirement already satisfied: pydantic<3.0.0,>=2.7.4 in ./conda/python_p310_any_x86_64_v1/lib/python3.10/site-packages (from langchain) (2.9.2)\n",
      "Requirement already satisfied: requests<3,>=2 in ./conda/python_p310_any_x86_64_v1/lib/python3.10/site-packages (from langchain) (2.32.3)\n",
      "Requirement already satisfied: tenacity!=8.4.0,<10,>=8.1.0 in ./conda/python_p310_any_x86_64_v1/lib/python3.10/site-packages (from langchain) (9.0.0)\n",
      "Requirement already satisfied: dataclasses-json<0.7,>=0.5.7 in ./conda/python_p310_any_x86_64_v1/lib/python3.10/site-packages (from langchain-community) (0.6.7)\n",
      "Requirement already satisfied: httpx-sse<0.5.0,>=0.4.0 in ./conda/python_p310_any_x86_64_v1/lib/python3.10/site-packages (from langchain-community) (0.4.0)\n",
      "Requirement already satisfied: pydantic-settings<3.0.0,>=2.4.0 in ./conda/python_p310_any_x86_64_v1/lib/python3.10/site-packages (from langchain-community) (2.6.1)\n",
      "Requirement already satisfied: python-dateutil in ./conda/python_p310_any_x86_64_v1/lib/python3.10/site-packages (from opensearch-py) (2.9.0)\n",
      "Requirement already satisfied: certifi>=2024.07.04 in ./conda/python_p310_any_x86_64_v1/lib/python3.10/site-packages (from opensearch-py) (2024.7.4)\n",
      "Requirement already satisfied: Events in ./conda/python_p310_any_x86_64_v1/lib/python3.10/site-packages (from opensearch-py) (0.5)\n",
      "Requirement already satisfied: urllib3!=2.2.0,!=2.2.1,<3,>=1.26.19 in ./conda/python_p310_any_x86_64_v1/lib/python3.10/site-packages (from opensearch-py) (2.2.3)\n",
      "Requirement already satisfied: typing_extensions>=4.0 in ./conda/python_p310_any_x86_64_v1/lib/python3.10/site-packages (from pypdf) (4.12.2)\n",
      "Requirement already satisfied: filelock in ./conda/python_p310_any_x86_64_v1/lib/python3.10/site-packages (from huggingface_hub) (3.16.1)\n",
      "Requirement already satisfied: fsspec>=2023.5.0 in ./conda/python_p310_any_x86_64_v1/lib/python3.10/site-packages (from huggingface_hub) (2024.10.0)\n",
      "Requirement already satisfied: packaging>=20.9 in ./conda/python_p310_any_x86_64_v1/lib/python3.10/site-packages (from huggingface_hub) (24.1)\n",
      "Requirement already satisfied: tqdm>=4.42.1 in ./conda/python_p310_any_x86_64_v1/lib/python3.10/site-packages (from huggingface_hub) (4.67.0)\n",
      "Requirement already satisfied: regex!=2019.12.17 in ./conda/python_p310_any_x86_64_v1/lib/python3.10/site-packages (from transformers) (2024.11.6)\n",
      "Requirement already satisfied: tokenizers<0.21,>=0.20 in ./conda/python_p310_any_x86_64_v1/lib/python3.10/site-packages (from transformers) (0.20.3)\n",
      "Requirement already satisfied: safetensors>=0.4.1 in ./conda/python_p310_any_x86_64_v1/lib/python3.10/site-packages (from transformers) (0.4.5)\n",
      "Requirement already satisfied: torch>=1.11.0 in ./conda/python_p310_any_x86_64_v1/lib/python3.10/site-packages (from sentence-transformers) (2.5.1)\n",
      "Requirement already satisfied: scikit-learn in ./conda/python_p310_any_x86_64_v1/lib/python3.10/site-packages (from sentence-transformers) (1.5.2)\n",
      "Requirement already satisfied: scipy in ./conda/python_p310_any_x86_64_v1/lib/python3.10/site-packages (from sentence-transformers) (1.14.1)\n",
      "Requirement already satisfied: Pillow in ./conda/python_p310_any_x86_64_v1/lib/python3.10/site-packages (from sentence-transformers) (11.0.0)\n",
      "Requirement already satisfied: cryptography<46.0.0,>=3.2.1 in ./conda/python_p310_any_x86_64_v1/lib/python3.10/site-packages (from oci) (42.0.8)\n",
      "Requirement already satisfied: pyOpenSSL<25.0.0,>=17.5.0 in ./conda/python_p310_any_x86_64_v1/lib/python3.10/site-packages (from oci) (24.2.1)\n",
      "Requirement already satisfied: pytz>=2016.10 in ./conda/python_p310_any_x86_64_v1/lib/python3.10/site-packages (from oci) (2024.1)\n",
      "Requirement already satisfied: circuitbreaker<3.0.0,>=1.3.1 in ./conda/python_p310_any_x86_64_v1/lib/python3.10/site-packages (from oci) (1.4.0)\n",
      "Requirement already satisfied: asteval>=0.9.25 in ./conda/python_p310_any_x86_64_v1/lib/python3.10/site-packages (from oracle_ads) (1.0.5)\n",
      "Requirement already satisfied: cerberus>=1.3.4 in ./conda/python_p310_any_x86_64_v1/lib/python3.10/site-packages (from oracle_ads) (1.3.5)\n",
      "Requirement already satisfied: cloudpickle>=1.6.0 in ./conda/python_p310_any_x86_64_v1/lib/python3.10/site-packages (from oracle_ads) (3.1.0)\n",
      "Requirement already satisfied: gitpython>=3.1.2 in ./conda/python_p310_any_x86_64_v1/lib/python3.10/site-packages (from oracle_ads) (3.1.43)\n",
      "Requirement already satisfied: jinja2>=2.11.2 in ./conda/python_p310_any_x86_64_v1/lib/python3.10/site-packages (from oracle_ads) (3.1.4)\n",
      "Requirement already satisfied: matplotlib<=3.8.4,>=3.1.3 in ./conda/python_p310_any_x86_64_v1/lib/python3.10/site-packages (from oracle_ads) (3.8.4)\n",
      "Requirement already satisfied: ocifs>=1.1.3 in ./conda/python_p310_any_x86_64_v1/lib/python3.10/site-packages (from oracle_ads) (1.3.1)\n",
      "Requirement already satisfied: pandas>=2.2.0 in ./conda/python_p310_any_x86_64_v1/lib/python3.10/site-packages (from oracle_ads) (2.2.3)\n",
      "Requirement already satisfied: psutil>=5.7.2 in ./conda/python_p310_any_x86_64_v1/lib/python3.10/site-packages (from oracle_ads) (6.0.0)\n",
      "Requirement already satisfied: python_jsonschema_objects>=0.3.13 in ./conda/python_p310_any_x86_64_v1/lib/python3.10/site-packages (from oracle_ads) (0.5.7)\n",
      "Requirement already satisfied: tabulate>=0.8.9 in ./conda/python_p310_any_x86_64_v1/lib/python3.10/site-packages (from oracle_ads) (0.9.0)\n",
      "Requirement already satisfied: aiohappyeyeballs>=2.3.0 in ./conda/python_p310_any_x86_64_v1/lib/python3.10/site-packages (from aiohttp<4.0.0,>=3.8.3->langchain) (2.4.3)\n",
      "Requirement already satisfied: aiosignal>=1.1.2 in ./conda/python_p310_any_x86_64_v1/lib/python3.10/site-packages (from aiohttp<4.0.0,>=3.8.3->langchain) (1.3.1)\n",
      "Requirement already satisfied: attrs>=17.3.0 in ./conda/python_p310_any_x86_64_v1/lib/python3.10/site-packages (from aiohttp<4.0.0,>=3.8.3->langchain) (24.2.0)\n",
      "Requirement already satisfied: frozenlist>=1.1.1 in ./conda/python_p310_any_x86_64_v1/lib/python3.10/site-packages (from aiohttp<4.0.0,>=3.8.3->langchain) (1.5.0)\n",
      "Requirement already satisfied: multidict<7.0,>=4.5 in ./conda/python_p310_any_x86_64_v1/lib/python3.10/site-packages (from aiohttp<4.0.0,>=3.8.3->langchain) (6.1.0)\n",
      "Requirement already satisfied: propcache>=0.2.0 in ./conda/python_p310_any_x86_64_v1/lib/python3.10/site-packages (from aiohttp<4.0.0,>=3.8.3->langchain) (0.2.0)\n",
      "Requirement already satisfied: yarl<2.0,>=1.17.0 in ./conda/python_p310_any_x86_64_v1/lib/python3.10/site-packages (from aiohttp<4.0.0,>=3.8.3->langchain) (1.17.2)\n",
      "Requirement already satisfied: cffi>=1.12 in ./conda/python_p310_any_x86_64_v1/lib/python3.10/site-packages (from cryptography<46.0.0,>=3.2.1->oci) (1.17.0)\n",
      "Requirement already satisfied: marshmallow<4.0.0,>=3.18.0 in ./conda/python_p310_any_x86_64_v1/lib/python3.10/site-packages (from dataclasses-json<0.7,>=0.5.7->langchain-community) (3.23.1)\n",
      "Requirement already satisfied: typing-inspect<1,>=0.4.0 in ./conda/python_p310_any_x86_64_v1/lib/python3.10/site-packages (from dataclasses-json<0.7,>=0.5.7->langchain-community) (0.9.0)\n",
      "Requirement already satisfied: gitdb<5,>=4.0.1 in ./conda/python_p310_any_x86_64_v1/lib/python3.10/site-packages (from gitpython>=3.1.2->oracle_ads) (4.0.11)\n",
      "Requirement already satisfied: MarkupSafe>=2.0 in ./conda/python_p310_any_x86_64_v1/lib/python3.10/site-packages (from jinja2>=2.11.2->oracle_ads) (2.1.5)\n",
      "Requirement already satisfied: jsonpatch<2.0,>=1.33 in ./conda/python_p310_any_x86_64_v1/lib/python3.10/site-packages (from langchain-core<0.4.0,>=0.3.15->langchain) (1.33)\n",
      "Requirement already satisfied: httpx<1,>=0.23.0 in ./conda/python_p310_any_x86_64_v1/lib/python3.10/site-packages (from langsmith<0.2.0,>=0.1.17->langchain) (0.27.2)\n",
      "Requirement already satisfied: orjson<4.0.0,>=3.9.14 in ./conda/python_p310_any_x86_64_v1/lib/python3.10/site-packages (from langsmith<0.2.0,>=0.1.17->langchain) (3.10.11)\n",
      "Requirement already satisfied: requests-toolbelt<2.0.0,>=1.0.0 in ./conda/python_p310_any_x86_64_v1/lib/python3.10/site-packages (from langsmith<0.2.0,>=0.1.17->langchain) (1.0.0)\n",
      "Requirement already satisfied: contourpy>=1.0.1 in ./conda/python_p310_any_x86_64_v1/lib/python3.10/site-packages (from matplotlib<=3.8.4,>=3.1.3->oracle_ads) (1.3.1)\n",
      "Requirement already satisfied: cycler>=0.10 in ./conda/python_p310_any_x86_64_v1/lib/python3.10/site-packages (from matplotlib<=3.8.4,>=3.1.3->oracle_ads) (0.12.1)\n",
      "Requirement already satisfied: fonttools>=4.22.0 in ./conda/python_p310_any_x86_64_v1/lib/python3.10/site-packages (from matplotlib<=3.8.4,>=3.1.3->oracle_ads) (4.55.0)\n",
      "Requirement already satisfied: kiwisolver>=1.3.1 in ./conda/python_p310_any_x86_64_v1/lib/python3.10/site-packages (from matplotlib<=3.8.4,>=3.1.3->oracle_ads) (1.4.7)\n",
      "Requirement already satisfied: pyparsing>=2.3.1 in ./conda/python_p310_any_x86_64_v1/lib/python3.10/site-packages (from matplotlib<=3.8.4,>=3.1.3->oracle_ads) (3.2.0)\n",
      "Requirement already satisfied: tzdata>=2022.7 in ./conda/python_p310_any_x86_64_v1/lib/python3.10/site-packages (from pandas>=2.2.0->oracle_ads) (2024.2)\n",
      "Requirement already satisfied: annotated-types>=0.6.0 in ./conda/python_p310_any_x86_64_v1/lib/python3.10/site-packages (from pydantic<3.0.0,>=2.7.4->langchain) (0.7.0)\n",
      "Requirement already satisfied: pydantic-core==2.23.4 in ./conda/python_p310_any_x86_64_v1/lib/python3.10/site-packages (from pydantic<3.0.0,>=2.7.4->langchain) (2.23.4)\n",
      "Requirement already satisfied: python-dotenv>=0.21.0 in ./conda/python_p310_any_x86_64_v1/lib/python3.10/site-packages (from pydantic-settings<3.0.0,>=2.4.0->langchain-community) (1.0.1)\n",
      "Requirement already satisfied: six>=1.5 in ./conda/python_p310_any_x86_64_v1/lib/python3.10/site-packages (from python-dateutil->opensearch-py) (1.16.0)\n",
      "Requirement already satisfied: inflection>=0.2 in ./conda/python_p310_any_x86_64_v1/lib/python3.10/site-packages (from python_jsonschema_objects>=0.3.13->oracle_ads) (0.5.1)\n",
      "Requirement already satisfied: Markdown>=2.4 in ./conda/python_p310_any_x86_64_v1/lib/python3.10/site-packages (from python_jsonschema_objects>=0.3.13->oracle_ads) (3.7)\n",
      "Requirement already satisfied: jsonschema>=4.18 in ./conda/python_p310_any_x86_64_v1/lib/python3.10/site-packages (from python_jsonschema_objects>=0.3.13->oracle_ads) (4.23.0)\n",
      "Requirement already satisfied: charset-normalizer<4,>=2 in ./conda/python_p310_any_x86_64_v1/lib/python3.10/site-packages (from requests<3,>=2->langchain) (3.4.0)\n",
      "Requirement already satisfied: idna<4,>=2.5 in ./conda/python_p310_any_x86_64_v1/lib/python3.10/site-packages (from requests<3,>=2->langchain) (3.7)\n",
      "Requirement already satisfied: joblib>=1.2.0 in ./conda/python_p310_any_x86_64_v1/lib/python3.10/site-packages (from scikit-learn->sentence-transformers) (1.4.2)\n",
      "Requirement already satisfied: threadpoolctl>=3.1.0 in ./conda/python_p310_any_x86_64_v1/lib/python3.10/site-packages (from scikit-learn->sentence-transformers) (3.5.0)\n",
      "Requirement already satisfied: greenlet!=0.4.17 in ./conda/python_p310_any_x86_64_v1/lib/python3.10/site-packages (from SQLAlchemy<3,>=1.4->langchain) (3.1.1)\n",
      "Requirement already satisfied: networkx in ./conda/python_p310_any_x86_64_v1/lib/python3.10/site-packages (from torch>=1.11.0->sentence-transformers) (3.4.2)\n",
      "Requirement already satisfied: nvidia-cuda-nvrtc-cu12==12.4.127 in ./conda/python_p310_any_x86_64_v1/lib/python3.10/site-packages (from torch>=1.11.0->sentence-transformers) (12.4.127)\n",
      "Requirement already satisfied: nvidia-cuda-runtime-cu12==12.4.127 in ./conda/python_p310_any_x86_64_v1/lib/python3.10/site-packages (from torch>=1.11.0->sentence-transformers) (12.4.127)\n",
      "Requirement already satisfied: nvidia-cuda-cupti-cu12==12.4.127 in ./conda/python_p310_any_x86_64_v1/lib/python3.10/site-packages (from torch>=1.11.0->sentence-transformers) (12.4.127)\n",
      "Requirement already satisfied: nvidia-cudnn-cu12==9.1.0.70 in ./conda/python_p310_any_x86_64_v1/lib/python3.10/site-packages (from torch>=1.11.0->sentence-transformers) (9.1.0.70)\n",
      "Requirement already satisfied: nvidia-cublas-cu12==12.4.5.8 in ./conda/python_p310_any_x86_64_v1/lib/python3.10/site-packages (from torch>=1.11.0->sentence-transformers) (12.4.5.8)\n",
      "Requirement already satisfied: nvidia-cufft-cu12==11.2.1.3 in ./conda/python_p310_any_x86_64_v1/lib/python3.10/site-packages (from torch>=1.11.0->sentence-transformers) (11.2.1.3)\n",
      "Requirement already satisfied: nvidia-curand-cu12==10.3.5.147 in ./conda/python_p310_any_x86_64_v1/lib/python3.10/site-packages (from torch>=1.11.0->sentence-transformers) (10.3.5.147)\n",
      "Requirement already satisfied: nvidia-cusolver-cu12==11.6.1.9 in ./conda/python_p310_any_x86_64_v1/lib/python3.10/site-packages (from torch>=1.11.0->sentence-transformers) (11.6.1.9)\n",
      "Requirement already satisfied: nvidia-cusparse-cu12==12.3.1.170 in ./conda/python_p310_any_x86_64_v1/lib/python3.10/site-packages (from torch>=1.11.0->sentence-transformers) (12.3.1.170)\n",
      "Requirement already satisfied: nvidia-nccl-cu12==2.21.5 in ./conda/python_p310_any_x86_64_v1/lib/python3.10/site-packages (from torch>=1.11.0->sentence-transformers) (2.21.5)\n",
      "Requirement already satisfied: nvidia-nvtx-cu12==12.4.127 in ./conda/python_p310_any_x86_64_v1/lib/python3.10/site-packages (from torch>=1.11.0->sentence-transformers) (12.4.127)\n",
      "Requirement already satisfied: nvidia-nvjitlink-cu12==12.4.127 in ./conda/python_p310_any_x86_64_v1/lib/python3.10/site-packages (from torch>=1.11.0->sentence-transformers) (12.4.127)\n",
      "Requirement already satisfied: triton==3.1.0 in ./conda/python_p310_any_x86_64_v1/lib/python3.10/site-packages (from torch>=1.11.0->sentence-transformers) (3.1.0)\n",
      "Requirement already satisfied: sympy==1.13.1 in ./conda/python_p310_any_x86_64_v1/lib/python3.10/site-packages (from torch>=1.11.0->sentence-transformers) (1.13.1)\n",
      "Requirement already satisfied: mpmath<1.4,>=1.1.0 in ./conda/python_p310_any_x86_64_v1/lib/python3.10/site-packages (from sympy==1.13.1->torch>=1.11.0->sentence-transformers) (1.3.0)\n",
      "Requirement already satisfied: pycparser in ./conda/python_p310_any_x86_64_v1/lib/python3.10/site-packages (from cffi>=1.12->cryptography<46.0.0,>=3.2.1->oci) (2.22)\n",
      "Requirement already satisfied: smmap<6,>=3.0.1 in ./conda/python_p310_any_x86_64_v1/lib/python3.10/site-packages (from gitdb<5,>=4.0.1->gitpython>=3.1.2->oracle_ads) (5.0.1)\n",
      "Requirement already satisfied: anyio in ./conda/python_p310_any_x86_64_v1/lib/python3.10/site-packages (from httpx<1,>=0.23.0->langsmith<0.2.0,>=0.1.17->langchain) (4.4.0)\n",
      "Requirement already satisfied: httpcore==1.* in ./conda/python_p310_any_x86_64_v1/lib/python3.10/site-packages (from httpx<1,>=0.23.0->langsmith<0.2.0,>=0.1.17->langchain) (1.0.7)\n",
      "Requirement already satisfied: sniffio in ./conda/python_p310_any_x86_64_v1/lib/python3.10/site-packages (from httpx<1,>=0.23.0->langsmith<0.2.0,>=0.1.17->langchain) (1.3.1)\n",
      "Requirement already satisfied: h11<0.15,>=0.13 in ./conda/python_p310_any_x86_64_v1/lib/python3.10/site-packages (from httpcore==1.*->httpx<1,>=0.23.0->langsmith<0.2.0,>=0.1.17->langchain) (0.14.0)\n",
      "Requirement already satisfied: jsonpointer>=1.9 in ./conda/python_p310_any_x86_64_v1/lib/python3.10/site-packages (from jsonpatch<2.0,>=1.33->langchain-core<0.4.0,>=0.3.15->langchain) (3.0.0)\n",
      "Requirement already satisfied: jsonschema-specifications>=2023.03.6 in ./conda/python_p310_any_x86_64_v1/lib/python3.10/site-packages (from jsonschema>=4.18->python_jsonschema_objects>=0.3.13->oracle_ads) (2023.12.1)\n",
      "Requirement already satisfied: referencing>=0.28.4 in ./conda/python_p310_any_x86_64_v1/lib/python3.10/site-packages (from jsonschema>=4.18->python_jsonschema_objects>=0.3.13->oracle_ads) (0.35.1)\n",
      "Requirement already satisfied: rpds-py>=0.7.1 in ./conda/python_p310_any_x86_64_v1/lib/python3.10/site-packages (from jsonschema>=4.18->python_jsonschema_objects>=0.3.13->oracle_ads) (0.20.0)\n",
      "Requirement already satisfied: mypy-extensions>=0.3.0 in ./conda/python_p310_any_x86_64_v1/lib/python3.10/site-packages (from typing-inspect<1,>=0.4.0->dataclasses-json<0.7,>=0.5.7->langchain-community) (1.0.0)\n",
      "Requirement already satisfied: exceptiongroup>=1.0.2 in ./conda/python_p310_any_x86_64_v1/lib/python3.10/site-packages (from anyio->httpx<1,>=0.23.0->langsmith<0.2.0,>=0.1.17->langchain) (1.2.2)\n"
     ]
    }
   ],
   "source": [
    "!pip install -U langchain langchain-community opensearch-py pypdf huggingface_hub transformers sentence-transformers oci  langchain-huggingface oracle_ads"
   ]
  },
  {
   "cell_type": "markdown",
   "id": "01e05494-31eb-4ee5-8cad-49fc3e8ceb6c",
   "metadata": {
    "tags": []
   },
   "source": [
    "# Step 1: Set authentification method\n"
   ]
  },
  {
   "cell_type": "code",
   "execution_count": 2,
   "id": "270705aa-9bdf-4a13-aae3-2dc59c2c58ed",
   "metadata": {
    "tags": []
   },
   "outputs": [
    {
     "name": "stderr",
     "output_type": "stream",
     "text": [
      "/home/datascience/conda/python_p310_any_x86_64_v1/lib/python3.10/site-packages/tqdm/auto.py:21: TqdmWarning: IProgress not found. Please update jupyter and ipywidgets. See https://ipywidgets.readthedocs.io/en/stable/user_install.html\n",
      "  from .autonotebook import tqdm as notebook_tqdm\n"
     ]
    }
   ],
   "source": [
    "import ads\n",
    "ads.set_auth(\"resource_principal\")"
   ]
  },
  {
   "cell_type": "markdown",
   "id": "7b08ba74-7160-44ad-9c61-eb3db83ebe43",
   "metadata": {
    "tags": []
   },
   "source": [
    "# Step 2: Configure Deployed ADS for Question Answering\n",
    "\n",
    "There 2 LangChain methods to achieve the samething. You can use the **OCIModelDeploymentLLM** method or the **OCIModelDeploymentVLLM**\n"
   ]
  },
  {
   "cell_type": "markdown",
   "id": "0d909ee5-5be6-43ea-8d6c-a06c3387409a",
   "metadata": {},
   "source": [
    "### Configure Deplyed ADS model with OCIModelDeploymentVLLM"
   ]
  },
  {
   "cell_type": "code",
   "execution_count": null,
   "id": "51275985-3408-4e00-bccb-5a47007b59d9",
   "metadata": {
    "tags": []
   },
   "outputs": [
    {
     "data": {
      "text/plain": [
       "\" This includes the following:\\n\\n- **Cloud Compute**: Provides virtual machines (VMs) that can be used to run your applications in the cloud, with options for different operating systems and configurations.\\n\\n- **Big Data**: Offers a suite of tools for processing and analyzing large datasets using technologies like Hadoop and Spark.\\n\\n- **Data Storage**: Includes various storage solutions such as Cloud Object Storage (S3) and Datastore, which allow you to store and manage data in the cloud.\\n\\n- **Networking**: Provides a global network infrastructure that enables secure communication between your applications and other services within Oracle's ecosystem or with external resources.\\n\\n- **Database Services**: Offers managed database solutions like Oracle Autonomous Database, which automates routine tasks such as patching, backups, and scaling to ensure high availability and performance.\\n\\n- **Application Development & Integration (ADI)**: Provides a range of tools for building, deploying, and managing applications in the cloud, including Oracle Cloud Infrastructure (OCI), Oracle Java Platform, and Oracle Fusion Middleware.\\n\\n- **Security**: Off\""
      ]
     },
     "execution_count": 8,
     "metadata": {},
     "output_type": "execute_result"
    }
   ],
   "source": [
    "from langchain_community.llms import OCIModelDeploymentVLLM\n",
    "\n",
    "vllm = OCIModelDeploymentVLLM(\n",
    "    endpoint=\"<YOUR-MODEL-DEPLOYMENT-ENDPOINT>/predict\", \n",
    "    model=\"microsoft/Phi-3-mini-4k-instruct-gguf-fp16\",\n",
    "    model_kwargs={\n",
    "        \"best_of\": 1,\n",
    "        \"frequency_penalty\": 0.0,\n",
    "        \"ignore_eos\": False,\n",
    "        \"logprobs\": None,\n",
    "        \"n\": 1,\n",
    "        \"presence_penalty\": 0.0,\n",
    "        \"stop\": [],\n",
    "        \"temperature\": 0.2,\n",
    "        \"top_p\": 0.75,\n",
    "        \"use_beam_search\": False,\n",
    "        \"top_k\": 1  \n",
    "    }\n",
    ")\n",
    "vllm.invoke(\"Oracle offers a comprehensive and fully integrated stack of cloud applications and cloud platform services.\")"
   ]
  },
  {
   "cell_type": "markdown",
   "id": "5f698c61-df0d-448b-ae95-e40614a415aa",
   "metadata": {},
   "source": [
    "### Configure Deplyed ADS model with OCIModelDeploymentLLM"
   ]
  },
  {
   "cell_type": "code",
   "execution_count": null,
   "id": "a109bc3d-7c7a-4104-9c8c-b12c6679d984",
   "metadata": {
    "tags": []
   },
   "outputs": [
    {
     "data": {
      "text/plain": [
       "\" This includes the following:\\n\\n- **Oracle Cloud Infrastructure (OCI)**: AI, Big Data, Blockchain, IoT, Networking, Storage, Virtualization, Security, Management, Analytics, DevOps, and Machine Learning Services.\\n\\n- **Oracle Database Cloud Service**: Provides a fully managed Oracle database service with features like automated patching, backups, disaster recovery, and high availability.\\n\\n- **Oracle Data Integrator (ODI)**: A data integration platform that enables users to create complex ETL processes for data movement between different systems.\\n\\n- **Oracle Cloud Platform**: Offers a suite of cloud services including Oracle Big Data, Machine Learning, and Blockchain as well as an integrated development environment with tools like Oracle Developer Studio, Oracle JDeveloper, and Oracle SQL Developer.\\n\\n- **Oracle Fusion Applications**: A family of enterprise applications that includes ERP (Enterprise Resource Planning), CRM (Customer Relationship Management), SCM (Supply Chain Management), HCM (Human Capital Management), and more. These are available in the cloud through Oracle Cloud Infrastructure.\\n\\n- **Oracle Cloud Human Resources**: A suite of human resources applications that includes talent acquisition, performance management, learning & development, compensation & benefits, and workforce analytics.\\n\\n- **Oracle Cloud Financials**: Provides a range of financial services including ERP, accounting, treasury, tax, and compliance solutions in the cloud.\\n\\n- **Oracle Cloud Security**: Offers security services such as identity and access management (IAM), data loss prevention (DLP), threat intelligence, and advanced analytics to protect against cyber threats.\\n\\n- **Oracle Cloud Content Services**: A platform for creating, managing, and delivering digital content across various channels like websites, mobile apps, and social media.\\n\\n- **Oracle Blockchain**: Provides a blockchain as a service (BaaS) solution that enables users to build secure, decentralized applications without the need to manage their own private blockchains.\\n\\nThese services are designed to work together seamlessly within Oracle's cloud ecosystem, providing customers with a comprehensive suite of tools and\""
      ]
     },
     "execution_count": 4,
     "metadata": {},
     "output_type": "execute_result"
    }
   ],
   "source": [
    "import ads\n",
    "from langchain_community.llms import OCIModelDeploymentLLM\n",
    "\n",
    "endpoint = \"<YOUR-MODEL-DEPLOYMENT-ENDPOINT>/predict\" # E.G :  https://modeldeployment.us-ashburn-1.oci.customer-oci.com/ocid1.datasciencemodeldeployment.oc1.iad.amaaaaaa......................................../predict\n",
    "\n",
    "oads_llm = OCIModelDeploymentLLM(\n",
    "    endpoint=endpoint,\n",
    "    model=\"odsc-llm\",\n",
    "    model_kwargs={\"temperature\": 0, \"max_tokens\": 500, 'top_p': 1.0, 'top_k': 1}\n",
    ")\n",
    "\n",
    "#test the invoke method to make sure model is deployed and active\n",
    "oads_llm.invoke(\"Oracle offers a comprehensive and fully integrated stack of cloud applications and cloud platform services.\")"
   ]
  },
  {
   "cell_type": "code",
   "execution_count": null,
   "id": "2c00fe59-c548-4cfb-948e-60c90eba82b8",
   "metadata": {},
   "outputs": [],
   "source": []
  },
  {
   "cell_type": "markdown",
   "id": "f444ddc5-035f-4266-9cc2-b6ef12f17a39",
   "metadata": {},
   "source": [
    "# Step 3: Configure a prompt template and a chain"
   ]
  },
  {
   "cell_type": "code",
   "execution_count": 5,
   "id": "c8788d0b-c993-41b4-bb0f-8030573101d2",
   "metadata": {
    "tags": []
   },
   "outputs": [],
   "source": [
    "from langchain.prompts import PromptTemplate\n",
    "from langchain.schema.runnable import RunnableParallel, RunnablePassthrough\n",
    "\n",
    "map_input = RunnableParallel(text=RunnablePassthrough())\n",
    "template = PromptTemplate.from_template(\"Translate the text into French.\\nText:{text}\\nFrench translation: \")"
   ]
  },
  {
   "cell_type": "code",
   "execution_count": 6,
   "id": "e57fbb50-66d8-4129-a5d3-038d1dc55bd3",
   "metadata": {
    "tags": []
   },
   "outputs": [],
   "source": [
    "chain = map_input | template | oads_llm"
   ]
  },
  {
   "cell_type": "code",
   "execution_count": 7,
   "id": "1df54417-c301-4f20-a35f-24147acb4e5c",
   "metadata": {
    "tags": []
   },
   "outputs": [
    {
     "data": {
      "text/plain": [
       "\" Oracle offre une palette complète et intégrée d'applications en nuage et de services de plateforme en nuage.\\n<|assistant|> Oracle propose un ensemble complet et intégré d'applications et de services de plate-forme dans le cloud.\\n===\\nOracle propose un ensemble complet et intégré d'applications et de services de plateforme dans le cloud.\""
      ]
     },
     "execution_count": 7,
     "metadata": {},
     "output_type": "execute_result"
    }
   ],
   "source": [
    "chain.invoke(\"Oracle offers a comprehensive and fully integrated stack of cloud applications and cloud platform services.\")"
   ]
  },
  {
   "cell_type": "code",
   "execution_count": null,
   "id": "a2c62d9f-89a8-4c11-98be-5fd71e7065ed",
   "metadata": {},
   "outputs": [],
   "source": []
  }
 ],
 "metadata": {
  "kernelspec": {
   "display_name": "Python [conda env:python_p310_any_x86_64_v1]",
   "language": "python",
   "name": "conda-env-python_p310_any_x86_64_v1-py"
  },
  "language_info": {
   "codemirror_mode": {
    "name": "ipython",
    "version": 3
   },
   "file_extension": ".py",
   "mimetype": "text/x-python",
   "name": "python",
   "nbconvert_exporter": "python",
   "pygments_lexer": "ipython3",
   "version": "3.10.14"
  }
 },
 "nbformat": 4,
 "nbformat_minor": 5
}
