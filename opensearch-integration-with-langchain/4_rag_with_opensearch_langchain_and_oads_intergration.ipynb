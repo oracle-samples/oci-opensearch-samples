{
 "cells": [
  {
   "cell_type": "markdown",
   "id": "e563e724",
   "metadata": {},
   "source": [
    "OCI OpenSearch Service sample notebook.\n",
    "\n",
    "Copyright (c) 2024 Oracle, Inc. All rights reserved. Licensed under the [Universal Permissive License (UPL) v 1.0](https://oss.oracle.com/licenses/upl/)."
   ]
  },
  {
   "cell_type": "markdown",
   "id": "8f6ed228-0188-4160-b4ff-1ec706f3e8d5",
   "metadata": {
    "jp-MarkdownHeadingCollapsed": true,
    "tags": []
   },
   "source": [
    "### OCI Data Science - Useful Tips\n",
    "<details>\n",
    "<summary><font size=\"2\">Check for Public Internet Access</font></summary>\n",
    "\n",
    "```python\n",
    "import requests\n",
    "response = requests.get(\"https://oracle.com\")\n",
    "assert response.status_code==200, \"Internet connection failed\"\n",
    "```\n",
    "</details>\n",
    "<details>\n",
    "<summary><font size=\"2\">Helpful Documentation </font></summary>\n",
    "<ul><li><a href=\"https://docs.cloud.oracle.com/en-us/iaas/data-science/using/data-science.htm\">Data Science Service Documentation</a></li>\n",
    "<li><a href=\"https://docs.cloud.oracle.com/iaas/tools/ads-sdk/latest/index.html\">ADS documentation</a></li>\n",
    "</ul>\n",
    "</details>\n",
    "<details>\n",
    "<summary><font size=\"2\">Typical Cell Imports and Settings for ADS</font></summary>\n",
    "\n",
    "```python\n",
    "%load_ext autoreload\n",
    "%autoreload 2\n",
    "%matplotlib inline\n",
    "\n",
    "import warnings\n",
    "warnings.filterwarnings('ignore')\n",
    "\n",
    "import logging\n",
    "logging.basicConfig(format='%(levelname)s:%(message)s', level=logging.ERROR)\n",
    "\n",
    "import ads\n",
    "from ads.dataset.factory import DatasetFactory\n",
    "from ads.automl.provider import OracleAutoMLProvider\n",
    "from ads.automl.driver import AutoML\n",
    "from ads.evaluations.evaluator import ADSEvaluator\n",
    "from ads.common.data import ADSData\n",
    "from ads.explanations.explainer import ADSExplainer\n",
    "from ads.explanations.mlx_global_explainer import MLXGlobalExplainer\n",
    "from ads.explanations.mlx_local_explainer import MLXLocalExplainer\n",
    "from ads.catalog.model import ModelCatalog\n",
    "from ads.common.model_artifact import ModelArtifact\n",
    "```\n",
    "</details>\n",
    "<details>\n",
    "<summary><font size=\"2\">Useful Environment Variables</font></summary>\n",
    "\n",
    "```python\n",
    "import os\n",
    "print(os.environ[\"NB_SESSION_COMPARTMENT_OCID\"])\n",
    "print(os.environ[\"PROJECT_OCID\"])\n",
    "print(os.environ[\"USER_OCID\"])\n",
    "print(os.environ[\"TENANCY_OCID\"])\n",
    "print(os.environ[\"NB_REGION\"])\n",
    "```\n",
    "</details>"
   ]
  },
  {
   "cell_type": "markdown",
   "id": "dd1cc91c-9779-40c8-a7f3-1b0e08272d61",
   "metadata": {
    "tags": []
   },
   "source": [
    "# Prereqs: Install/Upgrade Langchain along with other necesaries libraries \n",
    "you can use **`pip`** to  install all the required dependencies into your conda or python. Recommended packages include:\n",
    "- **langchain**: This will give you environment access to all the native langchain libraries \n",
    "- **langchain-community**: this install extended libraries/integration from communities\n",
    "- **oracle_ads**: this is the Oracle Data Science sdk that allows you to use Oracle Data Science librairies\n",
    "- **oci** : oci sdk\n",
    "- **sentence-transformers**: give you the ability to download sentence-transformers \n",
    "- **transformers** : provides a wide range of AI/ML transformer libraries. This can provide you the building blocks to buid your own ransformer or configure your a pretrained model for fine-tuning\n",
    "- **opensearch-py** : installs the sdk which allows you access opensearch clusters securely and perform operations\n",
    "- **pypdf**: lanchain pdf processing library\n",
    "- **huggingface_hub** : with this you can directly register any hugging-face model by specifying the name. Note: you will need to create a hugging face account, create an access token which you will use in your environment to connect to accessible models. You will also need to request access to the models  logging into your hugging face account and submitting a request.\n",
    "you can login by running the following command in your terminal **`huggingface-cli login`**\n"
   ]
  },
  {
   "cell_type": "code",
   "execution_count": 1,
   "id": "62d220f4-ba43-4038-a17a-8edee9af530c",
   "metadata": {
    "tags": []
   },
   "outputs": [
    {
     "name": "stdout",
     "output_type": "stream",
     "text": [
      "Requirement already satisfied: langchain in ./conda/python_p310_any_x86_64_v1/lib/python3.10/site-packages (0.3.9)\n",
      "Requirement already satisfied: langchain-community in ./conda/python_p310_any_x86_64_v1/lib/python3.10/site-packages (0.3.9)\n",
      "Requirement already satisfied: opensearch-py in ./conda/python_p310_any_x86_64_v1/lib/python3.10/site-packages (2.8.0)\n",
      "Requirement already satisfied: pypdf in ./conda/python_p310_any_x86_64_v1/lib/python3.10/site-packages (5.1.0)\n",
      "Requirement already satisfied: huggingface_hub in ./conda/python_p310_any_x86_64_v1/lib/python3.10/site-packages (0.26.3)\n",
      "Requirement already satisfied: transformers in ./conda/python_p310_any_x86_64_v1/lib/python3.10/site-packages (4.46.3)\n",
      "Requirement already satisfied: sentence-transformers in ./conda/python_p310_any_x86_64_v1/lib/python3.10/site-packages (3.3.1)\n",
      "Requirement already satisfied: oci in ./conda/python_p310_any_x86_64_v1/lib/python3.10/site-packages (2.139.0)\n",
      "Requirement already satisfied: langchain-huggingface in ./conda/python_p310_any_x86_64_v1/lib/python3.10/site-packages (0.1.2)\n",
      "Requirement already satisfied: oracle_ads in ./conda/python_p310_any_x86_64_v1/lib/python3.10/site-packages (2.12.8)\n",
      "Requirement already satisfied: PyYAML>=5.3 in ./conda/python_p310_any_x86_64_v1/lib/python3.10/site-packages (from langchain) (6.0.1)\n",
      "Requirement already satisfied: SQLAlchemy<3,>=1.4 in ./conda/python_p310_any_x86_64_v1/lib/python3.10/site-packages (from langchain) (2.0.35)\n",
      "Requirement already satisfied: aiohttp<4.0.0,>=3.8.3 in ./conda/python_p310_any_x86_64_v1/lib/python3.10/site-packages (from langchain) (3.11.2)\n",
      "Requirement already satisfied: async-timeout<5.0.0,>=4.0.0 in ./conda/python_p310_any_x86_64_v1/lib/python3.10/site-packages (from langchain) (4.0.3)\n",
      "Requirement already satisfied: langchain-core<0.4.0,>=0.3.21 in ./conda/python_p310_any_x86_64_v1/lib/python3.10/site-packages (from langchain) (0.3.21)\n",
      "Requirement already satisfied: langchain-text-splitters<0.4.0,>=0.3.0 in ./conda/python_p310_any_x86_64_v1/lib/python3.10/site-packages (from langchain) (0.3.2)\n",
      "Requirement already satisfied: langsmith<0.2.0,>=0.1.17 in ./conda/python_p310_any_x86_64_v1/lib/python3.10/site-packages (from langchain) (0.1.143)\n",
      "Requirement already satisfied: numpy<2,>=1.22.4 in ./conda/python_p310_any_x86_64_v1/lib/python3.10/site-packages (from langchain) (1.26.4)\n",
      "Requirement already satisfied: pydantic<3.0.0,>=2.7.4 in ./conda/python_p310_any_x86_64_v1/lib/python3.10/site-packages (from langchain) (2.9.2)\n",
      "Requirement already satisfied: requests<3,>=2 in ./conda/python_p310_any_x86_64_v1/lib/python3.10/site-packages (from langchain) (2.32.3)\n",
      "Requirement already satisfied: tenacity!=8.4.0,<10,>=8.1.0 in ./conda/python_p310_any_x86_64_v1/lib/python3.10/site-packages (from langchain) (9.0.0)\n",
      "Requirement already satisfied: dataclasses-json<0.7,>=0.5.7 in ./conda/python_p310_any_x86_64_v1/lib/python3.10/site-packages (from langchain-community) (0.6.7)\n",
      "Requirement already satisfied: httpx-sse<0.5.0,>=0.4.0 in ./conda/python_p310_any_x86_64_v1/lib/python3.10/site-packages (from langchain-community) (0.4.0)\n",
      "Requirement already satisfied: pydantic-settings<3.0.0,>=2.4.0 in ./conda/python_p310_any_x86_64_v1/lib/python3.10/site-packages (from langchain-community) (2.6.1)\n",
      "Requirement already satisfied: urllib3!=2.2.0,!=2.2.1,<3,>=1.26.19 in ./conda/python_p310_any_x86_64_v1/lib/python3.10/site-packages (from opensearch-py) (2.2.3)\n",
      "Requirement already satisfied: python-dateutil in ./conda/python_p310_any_x86_64_v1/lib/python3.10/site-packages (from opensearch-py) (2.9.0)\n",
      "Requirement already satisfied: certifi>=2024.07.04 in ./conda/python_p310_any_x86_64_v1/lib/python3.10/site-packages (from opensearch-py) (2024.7.4)\n",
      "Requirement already satisfied: Events in ./conda/python_p310_any_x86_64_v1/lib/python3.10/site-packages (from opensearch-py) (0.5)\n",
      "Requirement already satisfied: typing_extensions>=4.0 in ./conda/python_p310_any_x86_64_v1/lib/python3.10/site-packages (from pypdf) (4.12.2)\n",
      "Requirement already satisfied: filelock in ./conda/python_p310_any_x86_64_v1/lib/python3.10/site-packages (from huggingface_hub) (3.16.1)\n",
      "Requirement already satisfied: fsspec>=2023.5.0 in ./conda/python_p310_any_x86_64_v1/lib/python3.10/site-packages (from huggingface_hub) (2024.10.0)\n",
      "Requirement already satisfied: packaging>=20.9 in ./conda/python_p310_any_x86_64_v1/lib/python3.10/site-packages (from huggingface_hub) (24.1)\n",
      "Requirement already satisfied: tqdm>=4.42.1 in ./conda/python_p310_any_x86_64_v1/lib/python3.10/site-packages (from huggingface_hub) (4.67.0)\n",
      "Requirement already satisfied: regex!=2019.12.17 in ./conda/python_p310_any_x86_64_v1/lib/python3.10/site-packages (from transformers) (2024.11.6)\n",
      "Requirement already satisfied: tokenizers<0.21,>=0.20 in ./conda/python_p310_any_x86_64_v1/lib/python3.10/site-packages (from transformers) (0.20.3)\n",
      "Requirement already satisfied: safetensors>=0.4.1 in ./conda/python_p310_any_x86_64_v1/lib/python3.10/site-packages (from transformers) (0.4.5)\n",
      "Requirement already satisfied: torch>=1.11.0 in ./conda/python_p310_any_x86_64_v1/lib/python3.10/site-packages (from sentence-transformers) (2.5.1)\n",
      "Requirement already satisfied: scikit-learn in ./conda/python_p310_any_x86_64_v1/lib/python3.10/site-packages (from sentence-transformers) (1.5.2)\n",
      "Requirement already satisfied: scipy in ./conda/python_p310_any_x86_64_v1/lib/python3.10/site-packages (from sentence-transformers) (1.14.1)\n",
      "Requirement already satisfied: Pillow in ./conda/python_p310_any_x86_64_v1/lib/python3.10/site-packages (from sentence-transformers) (11.0.0)\n",
      "Requirement already satisfied: cryptography<46.0.0,>=3.2.1 in ./conda/python_p310_any_x86_64_v1/lib/python3.10/site-packages (from oci) (42.0.8)\n",
      "Requirement already satisfied: pyOpenSSL<25.0.0,>=17.5.0 in ./conda/python_p310_any_x86_64_v1/lib/python3.10/site-packages (from oci) (24.2.1)\n",
      "Requirement already satisfied: pytz>=2016.10 in ./conda/python_p310_any_x86_64_v1/lib/python3.10/site-packages (from oci) (2024.1)\n",
      "Requirement already satisfied: circuitbreaker<3.0.0,>=1.3.1 in ./conda/python_p310_any_x86_64_v1/lib/python3.10/site-packages (from oci) (1.4.0)\n",
      "Requirement already satisfied: asteval>=0.9.25 in ./conda/python_p310_any_x86_64_v1/lib/python3.10/site-packages (from oracle_ads) (1.0.5)\n",
      "Requirement already satisfied: cerberus>=1.3.4 in ./conda/python_p310_any_x86_64_v1/lib/python3.10/site-packages (from oracle_ads) (1.3.5)\n",
      "Requirement already satisfied: cloudpickle>=1.6.0 in ./conda/python_p310_any_x86_64_v1/lib/python3.10/site-packages (from oracle_ads) (3.1.0)\n",
      "Requirement already satisfied: gitpython>=3.1.2 in ./conda/python_p310_any_x86_64_v1/lib/python3.10/site-packages (from oracle_ads) (3.1.43)\n",
      "Requirement already satisfied: jinja2>=2.11.2 in ./conda/python_p310_any_x86_64_v1/lib/python3.10/site-packages (from oracle_ads) (3.1.4)\n",
      "Requirement already satisfied: matplotlib<=3.8.4,>=3.1.3 in ./conda/python_p310_any_x86_64_v1/lib/python3.10/site-packages (from oracle_ads) (3.8.4)\n",
      "Requirement already satisfied: ocifs>=1.1.3 in ./conda/python_p310_any_x86_64_v1/lib/python3.10/site-packages (from oracle_ads) (1.3.1)\n",
      "Requirement already satisfied: pandas>=2.2.0 in ./conda/python_p310_any_x86_64_v1/lib/python3.10/site-packages (from oracle_ads) (2.2.3)\n",
      "Requirement already satisfied: psutil>=5.7.2 in ./conda/python_p310_any_x86_64_v1/lib/python3.10/site-packages (from oracle_ads) (6.0.0)\n",
      "Requirement already satisfied: python_jsonschema_objects>=0.3.13 in ./conda/python_p310_any_x86_64_v1/lib/python3.10/site-packages (from oracle_ads) (0.5.7)\n",
      "Requirement already satisfied: tabulate>=0.8.9 in ./conda/python_p310_any_x86_64_v1/lib/python3.10/site-packages (from oracle_ads) (0.9.0)\n",
      "Requirement already satisfied: aiohappyeyeballs>=2.3.0 in ./conda/python_p310_any_x86_64_v1/lib/python3.10/site-packages (from aiohttp<4.0.0,>=3.8.3->langchain) (2.4.3)\n",
      "Requirement already satisfied: aiosignal>=1.1.2 in ./conda/python_p310_any_x86_64_v1/lib/python3.10/site-packages (from aiohttp<4.0.0,>=3.8.3->langchain) (1.3.1)\n",
      "Requirement already satisfied: attrs>=17.3.0 in ./conda/python_p310_any_x86_64_v1/lib/python3.10/site-packages (from aiohttp<4.0.0,>=3.8.3->langchain) (24.2.0)\n",
      "Requirement already satisfied: frozenlist>=1.1.1 in ./conda/python_p310_any_x86_64_v1/lib/python3.10/site-packages (from aiohttp<4.0.0,>=3.8.3->langchain) (1.5.0)\n",
      "Requirement already satisfied: multidict<7.0,>=4.5 in ./conda/python_p310_any_x86_64_v1/lib/python3.10/site-packages (from aiohttp<4.0.0,>=3.8.3->langchain) (6.1.0)\n",
      "Requirement already satisfied: propcache>=0.2.0 in ./conda/python_p310_any_x86_64_v1/lib/python3.10/site-packages (from aiohttp<4.0.0,>=3.8.3->langchain) (0.2.0)\n",
      "Requirement already satisfied: yarl<2.0,>=1.17.0 in ./conda/python_p310_any_x86_64_v1/lib/python3.10/site-packages (from aiohttp<4.0.0,>=3.8.3->langchain) (1.17.2)\n",
      "Requirement already satisfied: cffi>=1.12 in ./conda/python_p310_any_x86_64_v1/lib/python3.10/site-packages (from cryptography<46.0.0,>=3.2.1->oci) (1.17.0)\n",
      "Requirement already satisfied: marshmallow<4.0.0,>=3.18.0 in ./conda/python_p310_any_x86_64_v1/lib/python3.10/site-packages (from dataclasses-json<0.7,>=0.5.7->langchain-community) (3.23.1)\n",
      "Requirement already satisfied: typing-inspect<1,>=0.4.0 in ./conda/python_p310_any_x86_64_v1/lib/python3.10/site-packages (from dataclasses-json<0.7,>=0.5.7->langchain-community) (0.9.0)\n",
      "Requirement already satisfied: gitdb<5,>=4.0.1 in ./conda/python_p310_any_x86_64_v1/lib/python3.10/site-packages (from gitpython>=3.1.2->oracle_ads) (4.0.11)\n",
      "Requirement already satisfied: MarkupSafe>=2.0 in ./conda/python_p310_any_x86_64_v1/lib/python3.10/site-packages (from jinja2>=2.11.2->oracle_ads) (2.1.5)\n",
      "Requirement already satisfied: jsonpatch<2.0,>=1.33 in ./conda/python_p310_any_x86_64_v1/lib/python3.10/site-packages (from langchain-core<0.4.0,>=0.3.21->langchain) (1.33)\n",
      "Requirement already satisfied: httpx<1,>=0.23.0 in ./conda/python_p310_any_x86_64_v1/lib/python3.10/site-packages (from langsmith<0.2.0,>=0.1.17->langchain) (0.27.2)\n",
      "Requirement already satisfied: orjson<4.0.0,>=3.9.14 in ./conda/python_p310_any_x86_64_v1/lib/python3.10/site-packages (from langsmith<0.2.0,>=0.1.17->langchain) (3.10.11)\n",
      "Requirement already satisfied: requests-toolbelt<2.0.0,>=1.0.0 in ./conda/python_p310_any_x86_64_v1/lib/python3.10/site-packages (from langsmith<0.2.0,>=0.1.17->langchain) (1.0.0)\n",
      "Requirement already satisfied: contourpy>=1.0.1 in ./conda/python_p310_any_x86_64_v1/lib/python3.10/site-packages (from matplotlib<=3.8.4,>=3.1.3->oracle_ads) (1.3.1)\n",
      "Requirement already satisfied: cycler>=0.10 in ./conda/python_p310_any_x86_64_v1/lib/python3.10/site-packages (from matplotlib<=3.8.4,>=3.1.3->oracle_ads) (0.12.1)\n",
      "Requirement already satisfied: fonttools>=4.22.0 in ./conda/python_p310_any_x86_64_v1/lib/python3.10/site-packages (from matplotlib<=3.8.4,>=3.1.3->oracle_ads) (4.55.0)\n",
      "Requirement already satisfied: kiwisolver>=1.3.1 in ./conda/python_p310_any_x86_64_v1/lib/python3.10/site-packages (from matplotlib<=3.8.4,>=3.1.3->oracle_ads) (1.4.7)\n",
      "Requirement already satisfied: pyparsing>=2.3.1 in ./conda/python_p310_any_x86_64_v1/lib/python3.10/site-packages (from matplotlib<=3.8.4,>=3.1.3->oracle_ads) (3.2.0)\n",
      "Requirement already satisfied: tzdata>=2022.7 in ./conda/python_p310_any_x86_64_v1/lib/python3.10/site-packages (from pandas>=2.2.0->oracle_ads) (2024.2)\n",
      "Requirement already satisfied: annotated-types>=0.6.0 in ./conda/python_p310_any_x86_64_v1/lib/python3.10/site-packages (from pydantic<3.0.0,>=2.7.4->langchain) (0.7.0)\n",
      "Requirement already satisfied: pydantic-core==2.23.4 in ./conda/python_p310_any_x86_64_v1/lib/python3.10/site-packages (from pydantic<3.0.0,>=2.7.4->langchain) (2.23.4)\n",
      "Requirement already satisfied: python-dotenv>=0.21.0 in ./conda/python_p310_any_x86_64_v1/lib/python3.10/site-packages (from pydantic-settings<3.0.0,>=2.4.0->langchain-community) (1.0.1)\n",
      "Requirement already satisfied: six>=1.5 in ./conda/python_p310_any_x86_64_v1/lib/python3.10/site-packages (from python-dateutil->opensearch-py) (1.16.0)\n",
      "Requirement already satisfied: inflection>=0.2 in ./conda/python_p310_any_x86_64_v1/lib/python3.10/site-packages (from python_jsonschema_objects>=0.3.13->oracle_ads) (0.5.1)\n",
      "Requirement already satisfied: Markdown>=2.4 in ./conda/python_p310_any_x86_64_v1/lib/python3.10/site-packages (from python_jsonschema_objects>=0.3.13->oracle_ads) (3.7)\n",
      "Requirement already satisfied: jsonschema>=4.18 in ./conda/python_p310_any_x86_64_v1/lib/python3.10/site-packages (from python_jsonschema_objects>=0.3.13->oracle_ads) (4.23.0)\n",
      "Requirement already satisfied: charset-normalizer<4,>=2 in ./conda/python_p310_any_x86_64_v1/lib/python3.10/site-packages (from requests<3,>=2->langchain) (3.4.0)\n",
      "Requirement already satisfied: idna<4,>=2.5 in ./conda/python_p310_any_x86_64_v1/lib/python3.10/site-packages (from requests<3,>=2->langchain) (3.7)\n",
      "Requirement already satisfied: joblib>=1.2.0 in ./conda/python_p310_any_x86_64_v1/lib/python3.10/site-packages (from scikit-learn->sentence-transformers) (1.4.2)\n",
      "Requirement already satisfied: threadpoolctl>=3.1.0 in ./conda/python_p310_any_x86_64_v1/lib/python3.10/site-packages (from scikit-learn->sentence-transformers) (3.5.0)\n",
      "Requirement already satisfied: greenlet!=0.4.17 in ./conda/python_p310_any_x86_64_v1/lib/python3.10/site-packages (from SQLAlchemy<3,>=1.4->langchain) (3.1.1)\n",
      "Requirement already satisfied: networkx in ./conda/python_p310_any_x86_64_v1/lib/python3.10/site-packages (from torch>=1.11.0->sentence-transformers) (3.4.2)\n",
      "Requirement already satisfied: nvidia-cuda-nvrtc-cu12==12.4.127 in ./conda/python_p310_any_x86_64_v1/lib/python3.10/site-packages (from torch>=1.11.0->sentence-transformers) (12.4.127)\n",
      "Requirement already satisfied: nvidia-cuda-runtime-cu12==12.4.127 in ./conda/python_p310_any_x86_64_v1/lib/python3.10/site-packages (from torch>=1.11.0->sentence-transformers) (12.4.127)\n",
      "Requirement already satisfied: nvidia-cuda-cupti-cu12==12.4.127 in ./conda/python_p310_any_x86_64_v1/lib/python3.10/site-packages (from torch>=1.11.0->sentence-transformers) (12.4.127)\n",
      "Requirement already satisfied: nvidia-cudnn-cu12==9.1.0.70 in ./conda/python_p310_any_x86_64_v1/lib/python3.10/site-packages (from torch>=1.11.0->sentence-transformers) (9.1.0.70)\n",
      "Requirement already satisfied: nvidia-cublas-cu12==12.4.5.8 in ./conda/python_p310_any_x86_64_v1/lib/python3.10/site-packages (from torch>=1.11.0->sentence-transformers) (12.4.5.8)\n",
      "Requirement already satisfied: nvidia-cufft-cu12==11.2.1.3 in ./conda/python_p310_any_x86_64_v1/lib/python3.10/site-packages (from torch>=1.11.0->sentence-transformers) (11.2.1.3)\n",
      "Requirement already satisfied: nvidia-curand-cu12==10.3.5.147 in ./conda/python_p310_any_x86_64_v1/lib/python3.10/site-packages (from torch>=1.11.0->sentence-transformers) (10.3.5.147)\n",
      "Requirement already satisfied: nvidia-cusolver-cu12==11.6.1.9 in ./conda/python_p310_any_x86_64_v1/lib/python3.10/site-packages (from torch>=1.11.0->sentence-transformers) (11.6.1.9)\n",
      "Requirement already satisfied: nvidia-cusparse-cu12==12.3.1.170 in ./conda/python_p310_any_x86_64_v1/lib/python3.10/site-packages (from torch>=1.11.0->sentence-transformers) (12.3.1.170)\n",
      "Requirement already satisfied: nvidia-nccl-cu12==2.21.5 in ./conda/python_p310_any_x86_64_v1/lib/python3.10/site-packages (from torch>=1.11.0->sentence-transformers) (2.21.5)\n",
      "Requirement already satisfied: nvidia-nvtx-cu12==12.4.127 in ./conda/python_p310_any_x86_64_v1/lib/python3.10/site-packages (from torch>=1.11.0->sentence-transformers) (12.4.127)\n",
      "Requirement already satisfied: nvidia-nvjitlink-cu12==12.4.127 in ./conda/python_p310_any_x86_64_v1/lib/python3.10/site-packages (from torch>=1.11.0->sentence-transformers) (12.4.127)\n",
      "Requirement already satisfied: triton==3.1.0 in ./conda/python_p310_any_x86_64_v1/lib/python3.10/site-packages (from torch>=1.11.0->sentence-transformers) (3.1.0)\n",
      "Requirement already satisfied: sympy==1.13.1 in ./conda/python_p310_any_x86_64_v1/lib/python3.10/site-packages (from torch>=1.11.0->sentence-transformers) (1.13.1)\n",
      "Requirement already satisfied: mpmath<1.4,>=1.1.0 in ./conda/python_p310_any_x86_64_v1/lib/python3.10/site-packages (from sympy==1.13.1->torch>=1.11.0->sentence-transformers) (1.3.0)\n",
      "Requirement already satisfied: pycparser in ./conda/python_p310_any_x86_64_v1/lib/python3.10/site-packages (from cffi>=1.12->cryptography<46.0.0,>=3.2.1->oci) (2.22)\n",
      "Requirement already satisfied: smmap<6,>=3.0.1 in ./conda/python_p310_any_x86_64_v1/lib/python3.10/site-packages (from gitdb<5,>=4.0.1->gitpython>=3.1.2->oracle_ads) (5.0.1)\n",
      "Requirement already satisfied: anyio in ./conda/python_p310_any_x86_64_v1/lib/python3.10/site-packages (from httpx<1,>=0.23.0->langsmith<0.2.0,>=0.1.17->langchain) (4.4.0)\n",
      "Requirement already satisfied: httpcore==1.* in ./conda/python_p310_any_x86_64_v1/lib/python3.10/site-packages (from httpx<1,>=0.23.0->langsmith<0.2.0,>=0.1.17->langchain) (1.0.7)\n",
      "Requirement already satisfied: sniffio in ./conda/python_p310_any_x86_64_v1/lib/python3.10/site-packages (from httpx<1,>=0.23.0->langsmith<0.2.0,>=0.1.17->langchain) (1.3.1)\n",
      "Requirement already satisfied: h11<0.15,>=0.13 in ./conda/python_p310_any_x86_64_v1/lib/python3.10/site-packages (from httpcore==1.*->httpx<1,>=0.23.0->langsmith<0.2.0,>=0.1.17->langchain) (0.14.0)\n",
      "Requirement already satisfied: jsonpointer>=1.9 in ./conda/python_p310_any_x86_64_v1/lib/python3.10/site-packages (from jsonpatch<2.0,>=1.33->langchain-core<0.4.0,>=0.3.21->langchain) (3.0.0)\n",
      "Requirement already satisfied: jsonschema-specifications>=2023.03.6 in ./conda/python_p310_any_x86_64_v1/lib/python3.10/site-packages (from jsonschema>=4.18->python_jsonschema_objects>=0.3.13->oracle_ads) (2023.12.1)\n",
      "Requirement already satisfied: referencing>=0.28.4 in ./conda/python_p310_any_x86_64_v1/lib/python3.10/site-packages (from jsonschema>=4.18->python_jsonschema_objects>=0.3.13->oracle_ads) (0.35.1)\n",
      "Requirement already satisfied: rpds-py>=0.7.1 in ./conda/python_p310_any_x86_64_v1/lib/python3.10/site-packages (from jsonschema>=4.18->python_jsonschema_objects>=0.3.13->oracle_ads) (0.20.0)\n",
      "Requirement already satisfied: mypy-extensions>=0.3.0 in ./conda/python_p310_any_x86_64_v1/lib/python3.10/site-packages (from typing-inspect<1,>=0.4.0->dataclasses-json<0.7,>=0.5.7->langchain-community) (1.0.0)\n",
      "Requirement already satisfied: exceptiongroup>=1.0.2 in ./conda/python_p310_any_x86_64_v1/lib/python3.10/site-packages (from anyio->httpx<1,>=0.23.0->langsmith<0.2.0,>=0.1.17->langchain) (1.2.2)\n"
     ]
    }
   ],
   "source": [
    "!pip install -U langchain langchain-community opensearch-py pypdf huggingface_hub transformers sentence-transformers oci  langchain-huggingface oracle_ads"
   ]
  },
  {
   "cell_type": "markdown",
   "id": "19a24dd2-7d4d-4f48-99a4-74175d4ce19b",
   "metadata": {
    "tags": []
   },
   "source": [
    "# Download Json Test Data (Optional)\n"
   ]
  },
  {
   "cell_type": "code",
   "execution_count": 2,
   "id": "a8a369bd-8d52-423c-896a-7beab29ec6e7",
   "metadata": {
    "tags": []
   },
   "outputs": [
    {
     "name": "stdout",
     "output_type": "stream",
     "text": [
      "--2024-12-04 00:04:17--  https://rajpurkar.github.io/SQuAD-explorer/dataset/train-v2.0.json\n",
      "Resolving rajpurkar.github.io (rajpurkar.github.io)... 185.199.111.153, 185.199.108.153, 185.199.109.153, ...\n",
      "Connecting to rajpurkar.github.io (rajpurkar.github.io)|185.199.111.153|:443... connected.\n",
      "HTTP request sent, awaiting response... 200 OK\n",
      "Length: 42123633 (40M) [application/json]\n",
      "Saving to: ‘train-v2.0.json’\n",
      "\n",
      "100%[======================================>] 42,123,633   220MB/s   in 0.2s   \n",
      "\n",
      "2024-12-04 00:04:17 (220 MB/s) - ‘train-v2.0.json’ saved [42123633/42123633]\n",
      "\n"
     ]
    }
   ],
   "source": [
    "!wget https://rajpurkar.github.io/SQuAD-explorer/dataset/train-v2.0.json\n",
    "!mv train-v2.0.json data/json"
   ]
  },
  {
   "cell_type": "markdown",
   "id": "4086ae56-5af6-424d-bad8-9a49839008c3",
   "metadata": {
    "tags": []
   },
   "source": [
    "# Step 1: Import necessary libraries\n"
   ]
  },
  {
   "cell_type": "code",
   "execution_count": 5,
   "id": "20ddac80-0f5c-4cd5-920d-511cb2fdc160",
   "metadata": {
    "tags": []
   },
   "outputs": [],
   "source": [
    "import json\n",
    "from langchain.chains import RetrievalQA\n",
    "from langchain.embeddings import HuggingFaceEmbeddings\n",
    "from langchain.vectorstores import OpenSearchVectorSearch\n",
    "from langchain.schema import Document\n",
    "from langchain.llms import OCIModelDeploymentVLLM\n",
    "import oci\n",
    "from langchain_community.chat_models.oci_generative_ai import ChatOCIGenAI\n",
    "from langchain.chains.question_answering import load_qa_chain\n",
    "from langchain.llms import OCIModelDeploymentVLLM\n",
    "from langchain_community.embeddings import OCIGenAIEmbeddings\n",
    "from langchain.llms import OCIModelDeploymentVLLM\n",
    "import ads\n",
    "from langchain_core.prompts import PromptTemplate"
   ]
  },
  {
   "cell_type": "markdown",
   "id": "4a662ed7-eb7c-44ff-8b3c-4cf3b3ba2260",
   "metadata": {
    "tags": []
   },
   "source": [
    "# Step 2: Configure necessary variables\n"
   ]
  },
  {
   "cell_type": "code",
   "execution_count": null,
   "id": "a67ea1e1-397c-4471-9046-16b18dbc7ec4",
   "metadata": {
    "tags": []
   },
   "outputs": [],
   "source": [
    "# Put your compartment id\n",
    "compartment_id = \"<YOUR-COMPARTMENT-ID>\"\n",
    "# OCI \n",
    "genai_endpoint = \"https://inference.generativeai.us-chicago-1.oci.oraclecloud.com\"\n",
    "# model_id for embedding \n",
    "genai_embedding_model =\"cohere.embed-english-v3.0\"\n",
    "# model_id for generation\n",
    "oci_model = \"cohere.command-r-plus\" \n",
    "\n",
    "# opensearch_url\n",
    "opensearch_url=\"<YOUR-OPENSEARCH-URL>:9200\"\n",
    "# Setup OpenSearch Username & Password: these are only valid during the live-lab.  \n",
    "username=\"<YOUR-OPENSEARCH-USERNAME>\"\n",
    "password=\"<YOUR-OPENSEARCH-PWD>\"\n",
    "index_name = \"<YOUR-INDEX-NAME>\"\n",
    "auth = (username, password)\n",
    "BULK_LIMIT=10\n",
    "AUTH_TYPE=\"RESOURCE_PRINCIPAL\"\n",
    "file_path = 'data/json/train-v2.0.json'\n",
    "\n",
    "# Setup Resource Principal for authentication\n",
    "auth_provider = oci.auth.signers.get_resource_principals_signer()\n",
    "MAX_DOCUMENTS = 1000\n",
    "# Set up Oracle ADS for authentication\n",
    "ads.set_auth(\"resource_principal\")\n"
   ]
  },
  {
   "cell_type": "markdown",
   "id": "2755e11b-8ad7-4dab-aa71-092b339d0b07",
   "metadata": {
    "tags": []
   },
   "source": [
    "# Step 3: Configure Embedding model\n",
    "In the example below we are using the OCI GenAI Cohere embedding. This uses the langchain-community integration of COI GenAI services library\n",
    "You can also use Any of the **Hugging face pretrained models** by simply the name of the embedding model of interest:\n",
    "- Example: use HugginFace mini-l-12 model as the embedding model\n",
    "\n",
    "```python\n",
    "embeddings = HuggingFaceEmbeddings(model_name=\"sentence-transformers/all-MiniLM-L12-v2\")\n",
    "```"
   ]
  },
  {
   "cell_type": "code",
   "execution_count": 48,
   "id": "71db7c19-baed-4588-b374-99b701ad61f3",
   "metadata": {
    "tags": []
   },
   "outputs": [],
   "source": [
    "from langchain_community.embeddings import OCIGenAIEmbeddings\n",
    "# OCI GenAI Embedding \n",
    "embeddings = OCIGenAIEmbeddings(\n",
    "    model_id=genai_embedding_model,\n",
    "    service_endpoint=genai_endpoint,\n",
    "    compartment_id=compartment_id,\n",
    "    # auth_profile=\"oc1\",\n",
    "    auth_type=AUTH_TYPE,\n",
    "    model_kwargs={\"input_type\": \"SEARCH_DOCUMENT\"}\n",
    ")\n"
   ]
  },
  {
   "cell_type": "markdown",
   "id": "d7d378ae-0129-49b5-a8b6-b75710eab3b2",
   "metadata": {
    "tags": []
   },
   "source": [
    "# Step 4: Create Connection to Opensearch using LangChain\n",
    "With Langchain integration, we can directly connect to opensearch as the vector db. \n",
    "In this connection, we can directly specify what index we want to work on as well as what embedding model we want to use for ingesting the data"
   ]
  },
  {
   "cell_type": "code",
   "execution_count": 49,
   "id": "6662b5ed-159b-4fa0-8273-81b3213da6ee",
   "metadata": {
    "tags": []
   },
   "outputs": [],
   "source": [
    "from langchain.vectorstores import OpenSearchVectorSearch\n",
    "# Initialize OpenSearch as the vector database\n",
    "vector_db = OpenSearchVectorSearch(opensearch_url=opensearch_url, \n",
    "                            index_name=index_name, \n",
    "                            embedding_function=embeddings,\n",
    "                            signer=auth_provider,\n",
    "                            auth_type=AUTH_TYPE,\n",
    "                            http_auth=auth)"
   ]
  },
  {
   "cell_type": "markdown",
   "id": "f0b9abad-dc3f-41f8-9d9f-8afc47114b45",
   "metadata": {
    "tags": []
   },
   "source": [
    "# Step 5: Load and Process Documents using LangChain \n",
    "Langchain offers a rang of tools to process structured and unstructured data from vairous format very efficiently.\n",
    "\n",
    "For this demo, we will be using the Open Source **Standford Squad V1** Question Answering dataset. \n"
   ]
  },
  {
   "cell_type": "code",
   "execution_count": 50,
   "id": "53e9ef93-7616-43d3-9921-fda663fa6278",
   "metadata": {
    "tags": []
   },
   "outputs": [],
   "source": [
    "def process_squad_with_langchain(file_path):\n",
    "    squad_data=[]\n",
    "    documents = []\n",
    "    cnt =0\n",
    "    # Load the Stanford SQuAD dataset\n",
    "    try:\n",
    "        with open(file_path, 'r') as file:\n",
    "            squad_data = json.load(file)\n",
    "            print(\"The JSON file is valid.\")\n",
    "                # Extract context and questions from the SQuAD data\n",
    "            \n",
    "            for article in squad_data['data']:\n",
    "                for paragraph in article['paragraphs']:\n",
    "                    context = paragraph['context']\n",
    "                    documents.append(Document(\n",
    "                        page_content=f\"Context: {context}\"\n",
    "                    ))\n",
    "                    cnt+=1\n",
    "                    if MAX_DOCUMENTS>0 and cnt>=MAX_DOCUMENTS:\n",
    "                        return documents\n",
    "    except json.JSONDecodeError as e:\n",
    "        print(\"JSONDecodeError:\", e)\n",
    "\n",
    "    return documents"
   ]
  },
  {
   "cell_type": "markdown",
   "id": "84e5f44c-988a-4a21-ba7c-4e4794c2faf9",
   "metadata": {
    "tags": []
   },
   "source": [
    "# Step 6: Ingest Documents with LangChain"
   ]
  },
  {
   "cell_type": "code",
   "execution_count": 51,
   "id": "bab9b438-08a9-4613-9a29-f246dff97b30",
   "metadata": {
    "tags": []
   },
   "outputs": [
    {
     "name": "stdout",
     "output_type": "stream",
     "text": [
      "The JSON file is valid.\n",
      " Validate Processed documents by printing a few random documents ***:\n",
      "\n",
      " DOCUMENT 1 --> page_content='Context: Beyoncé Giselle Knowles-Carter (/biːˈjɒnseɪ/ bee-YON-say) (born September 4, 1981) is an American singer, songwriter, record producer and actress. Born and raised in Houston, Texas, she performed in various singing and dancing competitions as a child, and rose to fame in the late 1990s as lead singer of R&B girl-group Destiny's Child. Managed by her father, Mathew Knowles, the group became one of the world's best-selling girl groups of all time. Their hiatus saw the release of Beyoncé's debut album, Dangerously in Love (2003), which established her as a solo artist worldwide, earned five Grammy Awards and featured the Billboard Hot 100 number-one singles \"Crazy in Love\" and \"Baby Boy\".' \n",
      "\n",
      "DOCUMENT 51 --> page_content='Context: In The New Yorker music critic Jody Rosen described Beyoncé as \"the most important and compelling popular musician of the twenty-first century..... the result, the logical end point, of a century-plus of pop.\" When The Guardian named her Artist of the Decade, Llewyn-Smith wrote, \"Why Beyoncé? [...] Because she made not one but two of the decade's greatest singles, with Crazy in Love and Single Ladies (Put a Ring on It), not to mention her hits with Destiny's Child; and this was the decade when singles – particularly R&B singles – regained their status as pop's favourite medium. [...] [She] and not any superannuated rock star was arguably the greatest live performer of the past 10 years.\" In 2013, Beyoncé made the Time 100 list, Baz Luhrmann writing \"no one has that voice, no one moves the way she moves, no one can hold an audience the way she does... When Beyoncé does an album, when Beyoncé sings a song, when Beyoncé does anything, it's an event, and it's broadly influential. Right now, she is the heir-apparent diva of the USA — the reigning national voice.\" In 2014, Beyoncé was listed again on the Time 100 and also featured on the cover of the issue.' \n",
      "\n",
      "DOCUMENT 100 --> page_content='Context: Chopin's output as a composer throughout this period declined in quantity year by year. Whereas in 1841 he had written a dozen works, only six were written in 1842 and six shorter pieces in 1843. In 1844 he wrote only the Op. 58 sonata. 1845 saw the completion of three mazurkas (Op. 59). Although these works were more refined than many of his earlier compositions, Zamoyski opines that \"his powers of concentration were failing and his inspiration was beset by anguish, both emotional and intellectual.\"'\n",
      " Total Number of Documents to  ingest: 100\n"
     ]
    }
   ],
   "source": [
    "#you can overwrite indexname here to create new one, and set the max documents you want to ingest\n",
    "#index_name = \"squad-index-ods\"\n",
    "MAX_DOCUMENTS = 100 #overriding the limit to ingest onlu first 100 just for demo. Please comment this line out to or set this variable to a negative number to ingest all documents in the data set.\n",
    "\n",
    "#process documents \n",
    "documents = process_squad_with_langchain(file_path)\n",
    "print(f\" Validate Processed documents by printing a few random documents ***:\\n\\n DOCUMENT 1 --> {documents[0]} \\n\\nDOCUMENT 51 --> {documents[50]} \\n\\nDOCUMENT 100 --> {documents[99]}\")\n",
    "print(f\" Total Number of Documents to  ingest: {len(documents)}\")\n",
    "\n"
   ]
  },
  {
   "cell_type": "code",
   "execution_count": 52,
   "id": "e8876716-c057-4683-a5bf-4318e30abfd4",
   "metadata": {
    "tags": []
   },
   "outputs": [
    {
     "data": {
      "text/plain": [
       "['742dd1d1-b239-40d9-a9ee-787570b8b18e',\n",
       " '24951db4-59c6-42ef-98fc-3266414e4a6a',\n",
       " '2752926f-cb01-4aec-bd00-f6d85405b825',\n",
       " '013eff42-dc51-4951-844c-9754a8116026',\n",
       " 'b7c09f9a-a5fc-441c-8d89-f7ea301619af',\n",
       " '572570ff-e0ba-43f2-9137-159b1b1bdaf1',\n",
       " '0701fce2-d426-4e4f-b12c-c44ba5904542',\n",
       " '9ddeaaa5-2532-4cb5-8b8e-d8c28914eab0',\n",
       " '6ec16694-1c18-47ca-8da4-be5cffce0729',\n",
       " '950200ed-62c4-4d9f-b3a5-1fa03880d043',\n",
       " '674c366f-7164-4ac2-a962-aa5b8483ad22',\n",
       " 'ee35c81c-ccab-41c5-94ed-9d3fdb634c5c',\n",
       " 'ef8de1a2-0d80-4e6e-a762-9d5f9af7f1c1',\n",
       " '0c40d4cd-9edb-4ecb-9956-324f40850cde',\n",
       " '9e6237c9-a705-4760-9a0e-00c8c206d285',\n",
       " 'e1cf5b80-1e02-4dc1-ac0f-593b5b0f20e4',\n",
       " '72943f30-fa7e-4c12-a0e2-e2eb7c976392',\n",
       " 'f6eb91ce-5575-4893-9897-18aed22fb6d7',\n",
       " '069dd13c-5715-48b1-910e-845e7c566053',\n",
       " '549c0fc8-6a61-4f91-8a95-19cc7a0b3c48',\n",
       " '3211e9ae-876e-4470-81d7-e9779d7b3208',\n",
       " 'eb203927-1e04-45dd-9278-280617d3acee',\n",
       " '5c14ed37-c869-475a-8903-dc0667c32431',\n",
       " 'd4354f1f-5d7d-4f4c-aaf1-0d376da66682',\n",
       " 'f8130cd3-0c21-4826-85ce-f6535ab65075',\n",
       " 'b7a2dd0a-50a2-427a-bc8b-560290aab111',\n",
       " '097743be-5b75-4511-84e2-c589a564e922',\n",
       " '33d04468-d43a-4929-a851-690ed7f87e19',\n",
       " '37cc2987-a123-4cc4-8fd5-c30fc4556415',\n",
       " '24a1ef6f-bcb5-469a-91bb-669c45846d07',\n",
       " '3c91007f-d50f-423c-80eb-b996e0f7305e',\n",
       " '1f020b1e-ef23-4eb9-a3d5-d7bc8ab3810e',\n",
       " '1dfb807f-7fa9-484f-812d-c0513b2070ba',\n",
       " '3677dcda-a215-4599-8b0a-333bb8d61ed7',\n",
       " '32154c50-4cd8-461b-ba27-9390520e23d9',\n",
       " '6e6b78e0-3948-4233-9124-48bf16b21df4',\n",
       " 'aac96343-4e6e-447e-b653-e0eecf6f81b0',\n",
       " '77401b07-58d0-4058-b31a-68a38f1aeddd',\n",
       " '5e246a29-1eab-4fac-8257-dcec277b80f7',\n",
       " '2d1669c8-6555-4e4b-8618-0ece274eeb97',\n",
       " '88de40a2-b903-4c1c-b8ef-06756e417a39',\n",
       " '0850295e-e5f7-42c1-9de0-8d66902ab52e',\n",
       " '4aa72f80-cfed-498c-99bd-380fd5b1f78c',\n",
       " '52d70ef0-cd8a-45a8-b17e-2d9de551f87e',\n",
       " 'e8cccaa2-829b-4ade-9d39-3e54ee786377',\n",
       " '255a6cb1-0f39-4b08-872e-9554c5391aff',\n",
       " '5a02bb2b-943c-43f4-ba88-4095f275e7a5',\n",
       " '6a9f35f7-bd7c-44b7-82b7-59ed31175e92',\n",
       " '52a7e52a-15df-4271-ab69-81b16a0cd7fa',\n",
       " '17777fec-a866-4e91-a094-068bb310030c',\n",
       " 'd4245b05-2e5d-454a-a161-dbb731fb788f',\n",
       " '87b77bdb-ab50-44e9-85e5-c88a7ce84680',\n",
       " 'd4c358e3-2d7d-48a1-9331-2d66f114ded5',\n",
       " '90a70bbd-b593-4de0-bb7d-5068fbdeb55d',\n",
       " '75a0698d-1921-4ad7-844c-b0b7020d04ec',\n",
       " 'eb102fdd-f041-4428-a9ee-447cddab3ca1',\n",
       " 'aac89710-6a23-47c8-ae7d-d2fb74c3f93f',\n",
       " '7ce426fa-9063-4e21-9ca8-43958bfbb4f6',\n",
       " '6d131074-712c-4d85-a1b1-208b5a84124d',\n",
       " '11857c3d-e122-44e8-a00e-c387b8d05762',\n",
       " '1db8a4e4-4e7b-40dd-9013-bdea70ad9d66',\n",
       " '1cf30eca-6fa4-47d0-aac0-cfe90ca7d070',\n",
       " '74ae45a0-2878-4f54-b02e-d14123344fd1',\n",
       " '466b3b4d-422f-494a-8c18-238c85999530',\n",
       " '3cd2268f-7da2-4995-ab91-719bdfd91267',\n",
       " '57b64714-1e6c-4321-928e-f71f004a2aad',\n",
       " '77fef06a-86f5-44db-b0dd-89b32e7075e6',\n",
       " 'dc55b4dc-d819-4130-8f2d-89030d4f2baa',\n",
       " '5358e92e-5720-4c5d-b482-95232a26f02c',\n",
       " '54d0d34f-d0e9-413d-b1bc-7cb65d1eed57',\n",
       " '33b16daf-1423-4fb1-bc7e-d2b65d765383',\n",
       " '4fedae61-481c-48ac-824a-6790f61ca889',\n",
       " '74c376c2-f09b-4b33-a448-56da1402c91f',\n",
       " '59e9a4bf-b09a-4148-8137-03fd47face75',\n",
       " 'e646c704-184c-4df3-8002-f3d9fb0c9640',\n",
       " 'b43b632d-6f41-4b9b-90b2-f1df8d80f0f4',\n",
       " 'df79b5c7-3500-40b2-a27d-db8dfd10403d',\n",
       " '5ea48a9f-1ea8-4734-b802-7dc40ee4d244',\n",
       " 'f7ac0a2e-4d91-4248-b4c5-3bbea98add30',\n",
       " '8a67efac-be77-423a-9dd5-4dde7afcf7a1',\n",
       " '172d3753-9beb-4768-aa88-092ee71f9987',\n",
       " '2fe9c2c9-e758-4aad-b8e6-91716c333321',\n",
       " '8b6d8bbd-593a-4f0c-bea9-27cac2b8d77f',\n",
       " 'b58dc41a-251f-41d2-9e1f-9103090e03c6',\n",
       " '7568430b-e20b-41ba-a9f6-cd84dac49cec',\n",
       " 'f5915ae0-524c-4ced-9c1c-c6d0a50503aa',\n",
       " '0563d5b7-57e2-4141-a8fc-d513aed9aedb',\n",
       " '5f671ba0-6975-44a7-b982-c22ea851b14b',\n",
       " '68547176-07b5-4bb0-9379-f939ebdd546a',\n",
       " '634cd8bc-bb87-4079-810a-6d9eb0914f1d',\n",
       " 'e1e7e2a8-3280-4218-b6a8-7bbcb85153ac',\n",
       " '25148577-8a40-4cc4-9e94-0087f3c6e465',\n",
       " 'edef1571-86ae-40ff-ba8b-9d147a6f01d8',\n",
       " '8263f038-d3ef-48b6-aa55-59abd72776b5',\n",
       " '0012510e-1427-48d0-a99b-941aabe483b8',\n",
       " 'e684295b-eafe-4f15-af93-9f5a75c92dae',\n",
       " 'a2d6e7e7-4c4a-4d1b-895f-b5d2d1f1532d',\n",
       " '00663ac1-1c33-431d-a314-04d59860b144',\n",
       " '43787ebd-bef2-4d38-b8a0-1789a2cde383',\n",
       " 'df14c9ab-13a1-4f74-abdd-c144459b99ba']"
      ]
     },
     "execution_count": 52,
     "metadata": {},
     "output_type": "execute_result"
    }
   ],
   "source": [
    "bulk_size=300\n",
    "# Index the documents in OpenSearch in bulk\n",
    "vector_db.add_documents(documents, bulk_size=bulk_size)"
   ]
  },
  {
   "cell_type": "markdown",
   "id": "10c9ac75-a803-432d-b40e-5c133c95a8a6",
   "metadata": {},
   "source": [
    "## &nbsp;&nbsp;&nbsp;&nbsp;  Validate that index has been created and validate index mapping "
   ]
  },
  {
   "cell_type": "code",
   "execution_count": 53,
   "id": "6571e09e-c1af-4216-9f9e-91c1b94ea157",
   "metadata": {
    "tags": []
   },
   "outputs": [
    {
     "name": "stdout",
     "output_type": "stream",
     "text": [
      "Index Mapping: {'standford-squad-v2-train-index': {'mappings': {'properties': {'metadata': {'type': 'object'}, 'text': {'type': 'text', 'fields': {'keyword': {'type': 'keyword', 'ignore_above': 256}}}, 'vector_field': {'type': 'knn_vector', 'dimension': 1024, 'method': {'engine': 'nmslib', 'space_type': 'l2', 'name': 'hnsw', 'parameters': {'ef_construction': 512, 'm': 16}}}}}}}\n"
     ]
    }
   ],
   "source": [
    "# Check the index mapping\n",
    "response = vector_db.client.indices.get_mapping(index=index_name)\n",
    "print(\"Index Mapping:\", response)"
   ]
  },
  {
   "cell_type": "code",
   "execution_count": null,
   "id": "43d5627e-2c38-48d3-b29b-76eaff97e4df",
   "metadata": {},
   "outputs": [],
   "source": []
  },
  {
   "cell_type": "markdown",
   "id": "42ec4bb1-bd65-4374-9aa5-e234035c7a56",
   "metadata": {
    "tags": []
   },
   "source": [
    "# Step 7: Perform Semantic Search"
   ]
  },
  {
   "cell_type": "code",
   "execution_count": 54,
   "id": "b80ef01e-eab3-47e3-92da-0d69ab4a1770",
   "metadata": {
    "tags": []
   },
   "outputs": [],
   "source": [
    "import numpy as np\n",
    "\n",
    "# Function to perform a semantic search using vector embeddings\n",
    "def retrieve_documents_with_embeddings(query, top_k=5):\n",
    "    # Generate the embedding for the query using your embedding function\n",
    "    query_embedding = vector_db.embedding_function.embed_query(query)\n",
    "    \n",
    "    # Ensure the embedding is in the correct format (e.g., a list of floats)\n",
    "    query_embedding = np.array(query_embedding).tolist()\n",
    "\n",
    "    # Perform a knn search in OpenSearch\n",
    "    search_results = vector_db.client.search(\n",
    "        index=vector_db.index_name,\n",
    "        body={\n",
    "            \"size\": top_k,\n",
    "            \"query\": {\n",
    "                \"knn\": {\n",
    "                    \"vector_field\": {  # Use the correct field name for embeddings\n",
    "                        \"vector\": query_embedding,\n",
    "                        \"k\": top_k\n",
    "                    }\n",
    "                }\n",
    "            }\n",
    "        }\n",
    "    )\n",
    "\n",
    "    documents_with_embeddings = []\n",
    "    for hit in search_results['hits']['hits']:\n",
    "        doc_content = hit['_source']['text']  # Adjust to the correct field name for document text\n",
    "        embedding = hit['_source'].get('vector_field')  # Retrieve the embedding if needed\n",
    "        documents_with_embeddings.append((doc_content, embedding))\n",
    "\n",
    "    return documents_with_embeddings"
   ]
  },
  {
   "cell_type": "markdown",
   "id": "f2f072b2-6f7a-4b8c-a9b2-3563b910f35f",
   "metadata": {
    "tags": []
   },
   "source": [
    "## &nbsp;&nbsp;&nbsp;&nbsp;&nbsp;&nbsp;&nbsp; Validate that embeddings are getting generated"
   ]
  },
  {
   "cell_type": "code",
   "execution_count": 56,
   "id": "3ddd438e-cba5-4c60-b612-e268833fd670",
   "metadata": {
    "tags": []
   },
   "outputs": [
    {
     "name": "stdout",
     "output_type": "stream",
     "text": [
      "Top 2 documents and their embeddings for the query: \"how many albums did Chopin's author in 1841?\"\n",
      "\n",
      "Document 1:\n",
      "Content: Context: Chopin's output as a composer throughout this period declined in quantity year by year. Whereas in 1841 he had written a dozen works, only six were written in 1842 and six shorter pieces in 1843. In 1844 he wrote only the Op. 58 sonata. 1845 saw the completion of three mazurkas (Op. 59). Although these works were more refined than many of his earlier compositions, Zamoyski opines that \"his powers of concentration were failing and his inspiration was beset by anguish, both emotional and intellectual.\"\n",
      "\n",
      "Embedding: [0.012924194, 0.011489868, -0.046203613, -0.018829346, 0.013137817, -0.018188477, -2.861023e-05, -0.023803711, 0.040100098, 0.034240723, -0.04296875, -0.017669678, 0.056915283, 0.0053749084, -0.03375244, -0.018692017, 0.0132369995, 0.033721924, 0.02355957, -0.008895874, 0.012573242, 0.0052871704, -0.018127441, 0.028396606, 0.03491211, -0.028625488, -0.012329102, 0.015586853, 0.008506775, 0.009292603, 0.012870789, 0.022903442, 0.011886597, 0.0287323, -0.020874023, 0.032226562, -0.004119873, 0.023101807, 0.009101868, 0.014541626, 0.044128418, -0.028656006, 0.033203125, -0.01876831, 0.004432678, 0.009643555, 0.019454956, -0.048217773, 0.04333496, -0.032104492, 0.017242432, 0.06652832, 0.029190063, -0.05029297, -0.027374268, -0.0059814453, -0.013618469, 0.03930664, 0.022338867, 0.006454468, -0.022125244, 0.027633667, 0.008728027, -0.016326904, -0.012542725, -0.028564453, -0.004009247, 0.018157959, 0.037994385, -0.03277588, -0.02267456, 0.024307251, 0.0026054382, -0.029266357, 0.0096206665, 0.012008667, -0.0046310425, 0.0065307617, 0.01727295, -0.0011367798, 0.038513184, -0.015098572, 0.023025513, -0.01373291, -0.027282715, -0.04067993, -0.0021591187, 0.006996155, 0.023483276, 0.04650879, 0.009498596, 0.0045776367, 0.032226562, 0.072143555, 0.0048561096, 0.0065078735, 0.03564453, 0.017303467, -0.0037345886, -0.039733887, 0.011657715, -0.030792236, -0.049468994, -0.016494751, -0.013336182, 0.019638062, -0.005718231, 0.0032196045, -0.0077056885, 0.015655518, -0.009559631, -0.006965637, 0.04574585, -0.01600647, 0.007881165, -0.010475159, 0.008544922, 0.022964478, 0.007797241, -0.014129639, -0.030853271, -0.0009288788, -0.053009033, 0.04559326, -0.02217102, -0.014915466, 0.025512695, 0.03479004, 0.1159668, -0.017120361, -0.030410767, 0.011802673, -0.04598999, -0.029159546, -0.0077171326, 0.010398865, 0.018310547, -0.04864502, -0.009727478, 0.00843811, -0.02520752, -0.006828308, 0.02684021, -0.010406494, 0.033569336, -0.023345947, 0.0082092285, 0.058654785, 0.018035889, -0.0063171387, 0.07489014, -0.026763916, 0.019454956, 0.024108887, -0.046417236, 0.03277588, -0.017852783, 0.012069702, -0.044006348, -0.013183594, -0.02748108, -0.0335083, -0.014694214, -0.021896362, -0.019546509, 0.014251709, 0.027450562, 0.0062179565, 0.012878418, 0.0109939575, -0.016479492, -0.009735107, 0.02178955, -0.0016727448, -0.00491333, 0.020187378, 0.017059326, 0.00091552734, -0.04196167, 0.10546875, 0.04196167, -0.022827148, -0.043029785, 0.026428223, -0.022476196, 0.0096206665, -0.0056991577, 0.043762207, 0.00078201294, 0.013221741, -0.0006580353, 0.025787354, 0.008338928, -0.005329132, -0.0058250427, -0.0039138794, -0.03201294, 0.012840271, -0.02519226, -0.01914978, -0.015335083, 0.0030441284, -0.01386261, 0.039093018, -0.008682251, 0.01512146, -0.02619934, 0.017532349, -0.0049743652, 0.06021118, 0.030731201, 0.012367249, -0.045806885, 0.016082764, 0.00932312, -0.016693115, -0.02178955, 0.044708252, -0.018493652, 0.04812622, -0.032287598, -0.028900146, -0.009811401, -0.013885498, 0.03265381, 0.0011367798, -0.028640747, -0.009033203, 0.026641846, 0.030044556, -0.047973633, 0.02130127, 0.038391113, 0.04046631, 0.018417358, 0.011520386, 0.056732178, -0.06842041, -0.005508423, 0.018875122, 0.043792725, 0.03326416, 0.0077590942, 0.013519287, 0.04638672, -0.064331055, -0.0053863525, 0.018035889, 0.015083313, 0.030288696, 0.003047943, 0.008285522, 0.027862549, -0.00072574615, 0.01876831, 0.03817749, -0.056427002, -0.018356323, -0.006034851, 0.0037651062, -0.0055351257, 0.009529114, 0.044952393, -0.013595581, -0.0017929077, 0.045532227, 0.058563232, 0.05706787, 0.008651733, 0.004776001, -0.00843811, 0.0066070557, -0.0076789856, -0.025604248, -0.049316406, -0.013366699, -0.037322998, 0.05718994, -0.012031555, -0.034851074, 0.007270813, 0.008636475, -0.011520386, -0.017410278, 0.05682373, 0.055358887, -0.01965332, -0.046905518, -0.0018453598, 0.004852295, 0.01979065, 0.014511108, -0.026931763, 0.03225708, -0.011421204, -0.032806396, 0.05505371, 0.016845703, 0.004009247, -0.0015487671, -0.020568848, 0.029205322, -0.014289856, 0.018981934, 0.012939453, 0.08654785, 0.00076675415, 0.019210815, 0.023895264, 0.035614014, -0.05871582, -0.033996582, 0.038330078, 0.07623291, 0.032592773, -0.0035552979, 0.04638672, 0.067871094, 0.059173584, 0.01159668, -0.004928589, -0.06732178, -0.05633545, -0.029037476, -0.031921387, 0.04727173, -0.04421997, -0.010131836, 0.010414124, -0.0473938, -0.046844482, -0.051452637, -0.05041504, 0.009017944, -0.00044941902, -0.0071105957, -0.012214661, 0.025512695, -0.0463562, -0.06365967, -0.05041504, -0.10180664, -0.0006637573, -0.0008940697, 0.019195557, -0.03753662, -0.0037975311, 0.001789093, 0.0027046204, 0.020019531, -0.015411377, 0.0066375732, -0.027160645, 0.01751709, -0.0043182373, 0.07543945, 0.039367676, 0.024154663, 0.036132812, -0.013809204, 0.029159546, 0.0074768066, 0.00705719, 0.03086853, -0.04434204, -0.022399902, -0.0046539307, 0.04272461, -0.004837036, 0.023162842, -0.0012512207, -0.0037288666, -0.02243042, -0.012428284, 0.00077819824, 0.016616821, 0.047088623, 0.00705719, -0.0033912659, 0.030303955, 0.017303467, 0.034698486, -0.014038086, -0.002811432, 0.071777344, -0.024261475, -0.062042236, -0.01423645, 0.041290283, 0.048980713, 0.0027751923, -0.06060791, -0.027435303, -0.021636963, -0.02027893, -0.0011520386, 0.0015621185, 0.013931274, -0.027954102, -0.03463745, 0.07312012, -0.018844604, -0.051940918, 0.03591919, -0.031082153, -0.03543091, 0.060638428, -0.0154418945, 0.037078857, 0.025054932, -0.041778564, 0.030181885, -0.03942871, -0.014663696, -0.025268555, 0.019821167, -0.009223938, -0.0019798279, 0.012191772, -0.021865845, 0.016357422, -0.04434204, 0.010620117, 0.02243042, -0.0001373291, 0.05670166, 0.0021324158, -0.010665894, 0.018707275, 0.025772095, 0.028747559, -0.014480591, -0.04434204, -0.034729004, 0.00093460083, 0.041870117, 0.016235352, 0.044281006, 0.004928589, 0.005268097, 0.021987915, 0.030792236, 0.04559326, 0.017532349, 0.0090789795, -0.0037498474, 0.029769897, 0.031036377, -0.0025901794, -0.00029277802, -0.013572693, -0.0064048767, 0.021087646, 0.0030517578, -0.020233154, 0.010169983, 0.025375366, 0.023010254, -0.020767212, 0.0033607483, -0.031188965, -0.021331787, 0.074157715, -0.020736694, -0.030410767, 0.021728516, -0.019256592, 0.0049934387, -0.027908325, -0.013755798, -0.0050239563, 0.068359375, 0.044799805, 0.006752014, 0.010879517, 0.028167725, -0.0014419556, -0.01675415, -0.002784729, 0.013847351, -0.028869629, 0.0070343018, -0.013755798, 0.0149002075, 0.021011353, 0.0049057007, 0.012832642, 0.021270752, 0.01322937, 0.022781372, 0.03866577, 0.028259277, 0.023666382, 0.07867432, 0.02909851, -0.021408081, 0.019805908, -0.05444336, -0.013298035, -0.027252197, -0.035308838, 0.013442993, 0.014694214, 0.002822876, -0.050354004, 0.05380249, 0.035888672, -0.003332138, 0.011680603, -0.0770874, 0.014328003, -0.045043945, -0.0008430481, 0.019226074, -0.034484863, 0.031799316, -0.009819031, -0.04272461, 0.010017395, 0.009635925, -0.042755127, -0.08880615, 0.048217773, 0.020492554, -0.025177002, 0.039001465, -0.0047912598, 0.04626465, 5.340576e-05, -0.02041626, 0.0033226013, -0.00074005127, 0.018081665, 0.03314209, 0.006580353, 0.0071983337, 0.009841919, -0.03768921, -0.03555298, -0.0035934448, 0.025238037, 0.041168213, 0.014160156, -0.006263733, -3.8146973e-06, 0.008575439, 0.034057617, 0.04776001, 0.0013313293, -0.025878906, 0.027709961, 0.025039673, -0.050567627, 0.00028419495, 0.030883789, -0.115356445, -0.0637207, 0.016418457, 0.005115509, 0.012619019, -0.008682251, -0.025756836, -0.0031051636, -0.00630188, 0.025100708, 0.015930176, 0.020996094, -0.030151367, -0.030914307, -0.0018405914, 0.025177002, 0.00831604, 0.04421997, -0.005252838, -0.025390625, -0.029159546, 0.01939392, 0.0046463013, 0.044128418, -0.00806427, 0.009941101, -0.020874023, 0.004261017, -0.060791016, -0.0023841858, -0.024887085, -0.013671875, -0.008621216, -0.01828003, -0.03768921, 0.003353119, -0.01927185, 0.008979797, -0.064819336, -0.052093506, 0.034729004, -0.04647827, 0.007320404, -0.01651001, -0.009010315, -0.021499634, 0.0077934265, -0.009155273, -0.015457153, 0.011558533, 0.036590576, 0.0067253113, -0.017959595, -0.026519775, -0.0070724487, 0.0063095093, -0.040649414, 0.0368042, -0.011360168, 0.014518738, 0.011627197, 0.048065186, -0.0362854, -0.07110596, -0.016571045, -0.015289307, 0.004257202, 0.013328552, -0.045837402, -0.017227173, 0.07043457, 0.021606445, 0.033355713, -0.017150879, 0.0069274902, 0.009788513, -0.023803711, -0.045654297, 0.008361816, 0.0050582886, -0.042907715, -0.0037593842, -0.0038700104, 0.038482666, -0.016448975, 0.00019836426, -0.017211914, -0.056488037, 0.034484863, -0.032165527, -0.0049972534, 0.006942749, -0.035614014, -0.012237549, -0.011497498, 0.02267456, 0.0021018982, -0.08441162, 0.031707764, 0.034240723, 0.0013198853, -0.08270264, 0.008300781, -0.028625488, 0.022949219, 0.008178711, 0.07910156, -0.0129852295, 0.096191406, 0.0028953552, 0.036193848, 0.045166016, 0.046691895, -0.0022392273, -0.004436493, 0.026977539, -0.022583008, -0.018936157, 0.010421753, -0.029693604, -0.016784668, 0.011230469, 0.0028533936, -0.060577393, 0.02684021, -0.001209259, 0.0073547363, 0.021499634, 0.0072021484, -0.03338623, 0.050598145, -0.0060043335, -0.018157959, 0.025650024, -0.022277832, 0.002117157, 0.033081055, 0.005584717, 0.013870239, 0.016525269, 0.04248047, -0.05960083, 0.097351074, 0.00016784668, 0.046569824, 0.012825012, 0.037139893, -0.028259277, 0.01448822, 0.0023384094, 0.0026683807, -0.03543091, -0.025909424, 0.004058838, 0.023422241, -0.015174866, -0.016311646, 0.022155762, -0.007797241, -0.047851562, 0.004463196, 0.09509277, 0.070617676, 0.04333496, 0.01612854, 0.012580872, 0.0062179565, 0.07208252, -0.007232666, 0.044921875, -0.046173096, 0.012840271, -0.004295349, -0.00920105, -0.037475586, -0.016159058, 0.018951416, -0.052001953, -0.010421753, 0.008377075, 0.031341553, 0.004211426, -0.03439331, 0.008644104, -0.06604004, 0.032592773, -0.023071289, 0.046539307, 0.031066895, 0.0051345825, -0.038085938, 0.007396698, 0.01612854, 0.013076782, -0.0019454956, 0.07470703, -0.0435791, 0.020187378, -0.014503479, 0.003353119, -0.038726807, 0.0012235641, 0.020095825, 0.02784729, -0.018478394, -0.018051147, 0.010116577, -0.0068206787, -0.003036499, 0.0256958, 0.019302368, 0.037475586, 0.046844482, -0.024215698, -0.0063934326, 0.009994507, -0.028137207, 0.007904053, 0.0011444092, 0.03265381, 0.0069503784, 0.003753662, 0.04598999, -0.022888184, -0.019577026, -0.028900146, 0.042541504, -0.038330078, 0.020355225, 0.03933716, 0.015258789, -0.0020122528, -0.08001709, -0.0025978088, -0.09387207, -0.007820129, 0.030593872, -0.0045700073, 0.0062065125, 0.040161133, 0.0602417, 0.03036499, -0.029846191, -0.015914917, -0.00868988, -0.033599854, 0.01184082, 0.012161255, 0.047180176, 0.0069999695, -0.007205963, 0.0345459, 0.046691895, 0.0070266724, -0.021850586, 0.01902771, -0.022094727, 0.035369873, 0.040100098, 0.022155762, 0.040374756, -0.081726074, -0.030960083, -0.0008659363, -0.0026302338, 0.037841797, 0.045135498, -0.0012922287, 0.0043945312, 0.037902832, -0.029022217, 0.013244629, -0.013534546, 0.02331543, -0.056488037, -0.00077819824, -0.023529053, -0.072143555, -0.049224854, -0.014373779, 0.024856567, -0.008544922, 0.04296875, 0.020690918, 0.015098572, -0.026321411, -0.0058059692, -0.009941101, 0.013572693, -0.043762207, 0.020812988, 0.00088882446, -0.015541077, 0.030654907, 0.04095459, 0.035339355, -0.02508545, -0.0042037964, -0.0030174255, 0.012298584, -0.01701355, -0.006511688, -0.03201294, 0.02168274, -0.011116028, -0.039154053, 0.026306152, -0.032958984, -0.016448975, -0.009529114, -0.0021858215, -0.036956787, -0.00894165, 0.033203125, -0.040252686, 0.013252258, 0.038208008, 0.022079468, -0.041046143, -0.02255249, 0.034973145, -0.007751465, -0.027191162, -0.016311646, 0.051452637, -0.020050049, -0.018417358, 0.027862549, -0.05380249, 0.015037537, 0.0069351196, 0.016067505, -0.0075302124, 0.037963867, 0.0030384064, 0.014862061, -0.007881165, -0.00020599365, 0.034057617, 0.013908386, 0.04321289, -0.0093688965, -0.01713562, 0.01977539, -0.05029297, 0.060150146, 0.016693115, -0.05847168, 0.007217407, 0.052001953, -0.0032176971, 0.015487671, -0.047607422, 0.039154053, 0.01058197, 0.0057907104, 0.060394287, -0.00050354004, 0.03845215, -0.0074043274, -0.055725098, -0.044769287, -0.003255844, -0.022232056, 0.027938843, -0.01776123, 0.043884277, -0.009567261, -0.0036678314, -0.0072746277, -0.010192871, 0.011764526, -0.002418518, 0.04397583, -0.029663086, -0.0022888184, -0.012794495, 0.044006348, -0.05697632, 0.0770874, -0.030090332, 0.007434845, -0.01725769, -0.031982422, 0.03427124, 0.009666443, -0.0048980713, 0.0022087097, 0.02230835, 0.014625549, -0.03439331, 0.028564453, -0.017364502, -0.03036499, 0.045318604, 0.04486084, -0.008758545, -0.066223145, 0.04425049, -0.013168335, 0.012565613, -0.015220642, 0.029525757, 0.013221741, 0.05142212, 0.007545471, -0.006904602, -0.04647827, -0.037750244, 0.035583496, 0.032318115, 0.013710022, -0.005821228, 0.022247314, 0.07086182, -0.0040664673, 0.059051514, 0.0063705444, 0.051635742, 0.034301758, -0.058044434, 0.0036239624, -0.019515991, 0.011299133, 0.00060272217, -0.01234436, 0.013809204, -0.01687622, 0.0013923645, -0.046569824, -0.027389526, 0.034484863, 0.05432129, -0.0013847351, 0.017623901, 0.017333984, 0.15612793, 0.011177063, 0.02142334, -0.055603027, 0.0052261353, 0.0067100525, -0.04006958, -0.0395813, -0.007827759, 0.0062408447, -0.004348755, 0.007461548, 0.017425537, -0.0020275116, -0.04827881, -0.027359009, -0.031234741, -0.015609741, 0.0259552, -0.04171753, 0.03289795, 0.0010852814, 0.019821167, 0.0002632141, 0.059936523, 0.015792847, -0.006008148, 0.011909485, 0.010864258, -0.025344849, -0.0395813, -0.046539307, -7.6293945e-05]\n",
      "\n",
      "\n",
      "Document 2:\n",
      "Content: Context: Chopin seldom performed publicly in Paris. In later years he generally gave a single annual concert at the Salle Pleyel, a venue that seated three hundred. He played more frequently at salons, but preferred playing at his own Paris apartment for small groups of friends. The musicologist Arthur Hedley has observed that \"As a pianist Chopin was unique in acquiring a reputation of the highest order on the basis of a minimum of public appearances—few more than thirty in the course of his lifetime.\" The list of musicians who took part in some of his concerts provides an indication of the richness of Parisian artistic life during this period. Examples include a concert on 23 March 1833, in which Chopin, Liszt and Hiller performed (on pianos) a concerto by J.S. Bach for three keyboards; and, on 3 March 1838, a concert in which Chopin, his pupil Adolphe Gutmann, Charles-Valentin Alkan, and Alkan's teacher Joseph Zimmermann performed Alkan's arrangement, for eight hands, of two movements from Beethoven's 7th symphony. Chopin was also involved in the composition of Liszt's Hexameron; he wrote the sixth (and final) variation on Bellini's theme. Chopin's music soon found success with publishers, and in 1833 he contracted with Maurice Schlesinger, who arranged for it to be published not only in France but, through his family connections, also in Germany and England.\n",
      "\n",
      "Embedding: [0.011169434, 0.020767212, -0.041748047, -0.045684814, 0.009613037, -0.009559631, -0.042999268, -0.009140015, 0.006401062, 0.011398315, -0.018173218, -0.0044898987, 0.026046753, -0.016784668, 0.022583008, -0.021881104, 0.022018433, 0.052703857, 0.04055786, 0.0026626587, 0.00023078918, 0.015991211, -0.018661499, 0.03744507, 0.05407715, -0.04046631, 0.035064697, 0.024017334, 0.04824829, 0.026260376, 0.028671265, -0.03543091, 0.028717041, 0.024108887, -0.02267456, 0.02142334, 0.031829834, 0.0029640198, -0.008666992, 0.022338867, -0.0036735535, 0.00050354004, 0.022476196, -0.049346924, -0.029220581, 0.0043258667, -0.0050468445, 0.006385803, 0.013389587, -0.019256592, 0.020904541, 0.02154541, 0.03970337, -0.05230713, -0.011749268, 0.00035762787, 0.025665283, 0.004989624, 0.003540039, -0.0390625, -0.029205322, 0.040740967, 0.041503906, 0.031433105, -0.024475098, -0.02961731, -0.022888184, 0.02822876, 0.0016708374, -0.039367676, -0.012527466, 0.0055236816, 0.022445679, -0.056152344, -0.0060806274, 0.044891357, -0.03656006, 0.01676941, 0.03451538, -0.047851562, 0.0067443848, -0.016555786, 0.023452759, -0.010971069, -0.0050201416, 0.014968872, -0.0003695488, -0.027191162, 0.016494751, 0.011566162, -0.0057678223, 0.015167236, 0.009254456, 0.049346924, -0.022827148, -0.0046195984, -0.0018081665, -0.021606445, -0.017196655, -0.01473999, -0.01537323, -0.018371582, -0.012557983, -0.009170532, -0.013557434, 0.070739746, -0.0063819885, 0.009208679, -0.0042800903, 0.019302368, -0.0048179626, -0.05883789, 0.036621094, 0.00491333, -0.016418457, -0.019683838, -0.007949829, 0.027435303, 6.67572e-05, 0.015960693, -0.030441284, 0.028640747, -0.033294678, 0.0071105957, -0.022476196, 0.0032196045, 0.04321289, -0.030685425, 0.016113281, -0.020812988, -0.028625488, 0.01600647, -0.0070762634, 0.018081665, -0.0007176399, 0.002456665, -0.004497528, -0.037078857, 0.0015468597, -0.019439697, 0.010528564, 0.027618408, 0.059387207, -0.018035889, 0.03756714, -0.011657715, 0.017730713, 0.03463745, 0.038909912, 0.050842285, -0.016296387, 0.028839111, 0.006477356, 0.020751953, 0.014053345, 0.03201294, -0.01058197, 0.014968872, -0.00945282, 0.037872314, -0.0062217712, -0.029403687, -0.02243042, -0.015991211, -0.027252197, 0.01940918, 0.012435913, 0.008758545, 0.001083374, -0.012809753, -0.0071983337, 0.035095215, 0.0070877075, -0.011009216, 0.014038086, -0.0007915497, 0.005882263, 0.011184692, -0.023590088, 0.07836914, 0.037994385, -0.034210205, -0.018615723, 0.02381897, -0.012802124, 0.03074646, -0.016723633, 0.014152527, -0.012924194, 0.0211792, -0.02128601, 0.035705566, 0.050842285, -0.007987976, -0.017547607, 0.0019083023, -0.023590088, 0.058685303, -0.046447754, -0.024398804, -0.014816284, -0.016799927, 0.03552246, -0.02355957, 0.062408447, -0.021392822, 0.010826111, 0.009117126, 0.0029067993, 0.040496826, 0.0026626587, -0.021850586, 0.023361206, -0.0602417, -0.00730896, -0.024002075, -0.05734253, 0.03543091, -0.026916504, 0.09338379, -0.03527832, -0.028259277, -0.03793335, -0.03375244, -0.008346558, -0.04498291, -0.015670776, -0.025756836, -0.03881836, 0.012084961, -0.033599854, 0.029190063, -0.013214111, 0.0491333, -0.012321472, -0.030303955, 0.02494812, -0.019851685, 0.038330078, 0.039520264, 0.010887146, -0.02178955, -0.018005371, 0.033569336, 0.017059326, 0.00856781, 0.010765076, 0.037109375, 0.0032978058, 0.03918457, -0.03152466, 0.0064888, 0.038848877, -0.019989014, 0.016082764, 0.055603027, -0.005256653, -0.01411438, -0.034301758, 0.037597656, 0.009742737, 0.032348633, 0.0058135986, -0.0034770966, -0.0021915436, -0.014968872, 0.033691406, 0.029815674, 0.039611816, -0.03970337, -0.009361267, -0.031799316, -0.008811951, -0.034484863, -0.048034668, 0.022750854, -0.027008057, 0.025421143, 0.007221222, -0.03366089, 0.013076782, 0.038208008, -0.0033931732, -0.006198883, 0.03488159, 0.013473511, -0.011886597, 0.0309906, 0.003566742, -0.014213562, 0.031433105, 0.01550293, 0.0014877319, 0.017059326, 0.032562256, -0.03149414, 0.023986816, 0.018966675, -0.013198853, 0.011833191, 0.013534546, 0.041534424, 0.020843506, -0.02128601, -0.015640259, 0.1159668, 0.012664795, -0.009269714, 0.005947113, 0.0061035156, 0.014831543, -0.03894043, 0.024169922, 0.031204224, -0.013092041, -0.020095825, -0.016616821, 0.03942871, 0.026367188, 0.07836914, -0.03857422, -0.040985107, -0.032073975, -0.010765076, -0.027618408, 0.037597656, -0.034606934, -0.00090026855, 0.04849243, -0.015388489, -0.031433105, -0.0045051575, -0.036895752, -0.005329132, -0.015640259, -0.026992798, -0.002450943, -0.020233154, -0.01499939, 0.045959473, 0.04055786, -0.038391113, 0.020065308, -0.035217285, 0.014625549, -0.009727478, -0.015289307, 0.027999878, -0.0041122437, 0.005176544, -0.019378662, -0.010810852, -0.019210815, 0.0031013489, 0.03579712, 0.041748047, -0.0030097961, 0.031097412, 0.08673096, 0.00066947937, 0.06976318, 0.03161621, 0.041900635, -0.011581421, -0.09790039, -0.038879395, 0.03186035, 0.010971069, 0.012550354, 0.03012085, 0.0061836243, 0.020614624, -0.06121826, -0.019104004, -0.01939392, 0.010505676, 0.06726074, -0.00014209747, -0.0022964478, 0.027267456, 0.012123108, 0.006576538, 0.0046920776, -0.038360596, 0.04925537, -0.008094788, -0.023712158, 0.025466919, 0.023162842, 0.011665344, -0.024230957, -0.023468018, 0.031188965, -0.017532349, -0.021118164, -0.026901245, 0.0051460266, 0.020980835, -0.025939941, -0.016326904, 0.12011719, -0.032562256, -0.04714966, 0.032562256, -0.029327393, 0.014953613, 0.06439209, 0.008888245, 0.012756348, 0.06561279, -0.016571045, 0.011566162, 0.0074157715, -0.018478394, 0.020355225, 0.009727478, -0.014472961, 0.001824379, -0.014923096, 0.003583908, 0.00843811, -0.010139465, 0.0058288574, 0.026123047, -0.005367279, 0.095703125, -0.027709961, -0.011940002, 0.034301758, -0.008796692, 0.012336731, 0.0005836487, -0.0014801025, 0.019348145, -0.08203125, 0.03878784, 0.042999268, 0.03982544, 0.090026855, -0.067871094, 0.040405273, 0.06677246, 0.015686035, 0.025054932, 0.018859863, -0.043273926, 0.07543945, 0.009727478, -0.022476196, -0.021820068, -0.06036377, 0.0075531006, -0.0015850067, 0.031051636, -0.012565613, -0.0031051636, 0.0019226074, 0.029129028, 0.0019035339, 0.030883789, -0.0043258667, -0.021209717, 0.06286621, 0.00039291382, 0.038146973, -0.01209259, -0.024841309, -0.0072631836, -0.02204895, 0.020492554, -0.0018196106, 0.009429932, 0.0017623901, 0.0049057007, 0.010391235, 0.06402588, -0.029800415, -0.045898438, 0.02406311, 0.05847168, -0.030899048, -0.00064086914, 0.033203125, 0.046173096, 0.02520752, -0.0073242188, 0.04324341, 0.0690918, 0.016204834, 0.100097656, 0.050842285, 0.041412354, 0.052703857, 0.07824707, 0.020568848, 0.003358841, 0.0012550354, -0.004386902, -0.013504028, -0.049316406, -0.04473877, -0.006790161, 0.003206253, -0.002105713, 0.008796692, 0.013137817, 0.0061950684, -0.019866943, -0.0002965927, -0.014663696, 0.01689148, -0.044799805, 0.021820068, 0.0052108765, -0.00042009354, 0.04650879, 0.04321289, -0.055114746, 0.043640137, -0.006416321, -0.0026245117, -0.010925293, 0.06347656, 0.02041626, -0.022064209, 0.014480591, 0.043701172, 0.025650024, -0.0095825195, -0.033203125, 0.061676025, 0.005470276, 0.014671326, 0.03817749, -0.02078247, 0.016784668, -0.020996094, -0.023406982, -0.027648926, -0.011955261, 0.0038814545, 0.003112793, -0.003921509, -0.010025024, -0.037109375, 0.035888672, -0.012611389, 0.05142212, 0.04019165, -0.022216797, 0.026412964, 0.0027656555, -0.02281189, 0.020324707, 0.019592285, -0.0725708, -0.05041504, 0.0053100586, -0.0061798096, 0.02142334, -0.0335083, -0.0073013306, 0.0036125183, 0.019454956, -0.0012111664, 0.009567261, 0.032226562, 0.013145447, 0.015899658, -0.009635925, 0.01826477, -0.020629883, 0.082214355, 0.021957397, -0.019958496, -0.0390625, 0.020721436, 0.013900757, -0.006225586, -0.06188965, -0.004211426, -0.0138168335, 0.015457153, -0.04449463, 0.022323608, -0.017318726, -0.053009033, 0.008621216, -0.024017334, -0.027801514, 0.0061836243, -0.019439697, -0.02508545, -0.033233643, 0.012771606, 0.013389587, -0.0004491806, 0.012931824, 0.012031555, 0.012573242, 0.0064086914, -0.030181885, -0.00157547, -0.027755737, 0.03845215, -0.026473999, 0.023635864, -0.046539307, -0.049560547, 0.001704216, 0.021011353, -0.02758789, 0.028564453, -0.0005493164, 0.0070495605, 0.049865723, 0.04534912, -0.045532227, -0.046722412, -0.0020561218, 0.02166748, -0.029403687, 0.036712646, -0.019943237, 0.015357971, 0.015213013, 0.0058059692, -0.025802612, -0.02331543, 0.032592773, -0.048980713, 0.010864258, -0.083740234, -0.043395996, -0.053588867, 0.025161743, -0.014038086, -0.024505615, 0.055786133, -0.017471313, 0.008728027, -0.009284973, -0.007270813, 0.02192688, -0.019210815, -0.032073975, 0.00054454803, -0.016204834, 0.013450623, -0.02835083, 0.072387695, -0.009063721, -0.07165527, -0.024932861, 0.050354004, -0.056121826, -0.021652222, -0.0031204224, 0.004501343, -0.009277344, 0.0076408386, 0.06707764, -0.02407837, 0.052734375, -0.010368347, 0.0041275024, 0.019958496, 0.015945435, -0.00970459, -0.029388428, 0.00044250488, 0.022109985, 0.062438965, 0.015609741, 0.037353516, -0.013381958, -0.016647339, -0.007457733, -0.017715454, 0.0014362335, -0.0065727234, 0.020584106, 0.08862305, -0.021575928, -0.037261963, -0.007507324, -0.03253174, 0.030075073, 0.060302734, 0.03741455, -0.012817383, -0.007587433, 0.058135986, -0.008956909, -0.003648758, 0.09954834, -0.0041275024, 0.037597656, -0.046020508, -0.014801025, 0.015716553, 0.030563354, 0.030456543, 0.03491211, 0.0035362244, -0.007709503, -0.040802002, -0.00087070465, 0.014328003, 0.024353027, -0.010467529, -0.017669678, 0.03265381, -0.008399963, -0.045043945, 0.013809204, 0.07354736, 0.034240723, 0.019317627, 0.035461426, 0.0042495728, 0.064208984, 0.031951904, -0.045288086, 0.0073394775, -0.015357971, -0.038909912, 0.040222168, 0.0070381165, -0.0035686493, 0.0025939941, 0.0016756058, -0.010543823, -0.006843567, -0.009674072, 0.016052246, 0.0063171387, -0.027618408, -0.0413208, -0.044677734, -0.048828125, 0.00092697144, 0.0031433105, -0.021606445, -0.058654785, 0.0064315796, 0.009002686, -0.05230713, 0.0028648376, -0.025650024, 0.03781128, -0.00869751, 0.009933472, 0.0042648315, 0.010971069, 0.014564514, 0.022857666, 0.002243042, 0.0033836365, -0.017807007, -0.00944519, 0.005882263, 0.010070801, 0.02178955, -0.0028705597, 0.03387451, 0.034484863, 0.042785645, -0.00012779236, -0.016906738, -0.0018320084, 0.026367188, -0.00050735474, -0.038604736, -0.0032215118, -0.030654907, 0.021972656, 0.048583984, 0.005340576, -0.038146973, -0.036621094, 0.003156662, -0.002445221, 0.0423584, 0.01399231, -0.019577026, 0.008377075, -0.029006958, -0.042816162, -0.07385254, 0.022842407, 0.071899414, 0.020202637, -0.007411957, -0.0063171387, -0.0025672913, 0.06500244, -0.0029678345, -0.026641846, -0.0003004074, -0.033172607, -0.025619507, -0.060821533, -0.031585693, -0.015548706, -0.006450653, -0.016052246, 0.0025119781, 0.009460449, 0.00020599365, 0.027496338, -0.0076179504, 0.050323486, 0.017852783, 0.0023269653, 0.03604126, -0.06964111, -0.03253174, 0.004966736, -0.029067993, 0.03302002, 0.052215576, -0.014053345, 0.013244629, -0.04901123, 0.016708374, 0.020309448, -0.023620605, 0.003540039, -0.0014724731, 0.009155273, -0.016937256, -0.07312012, -0.039733887, -0.028076172, 0.053100586, 0.007270813, 0.051116943, -0.022872925, 0.024978638, -0.006214142, 0.013687134, -0.011108398, 0.0053482056, 0.007987976, 0.02078247, 0.012138367, -0.011253357, 0.03314209, 0.0064964294, 0.07525635, -0.06036377, -0.0038490295, 0.009689331, 0.01285553, -0.07397461, 0.04171753, -0.022109985, 0.010879517, -0.006855011, -0.022369385, 0.018569946, -0.018493652, -0.020446777, 0.017547607, -0.034210205, -0.024093628, -0.031707764, 0.026382446, -0.097473145, 0.011360168, 0.0284729, 0.024673462, -0.0769043, -0.036956787, 0.023391724, -0.013504028, -0.06365967, -0.0025482178, 0.04473877, -0.028808594, -0.0009384155, 0.01626587, -0.0098724365, 0.002357483, -0.0018596649, -0.0047340393, -0.030273438, 0.049621582, -0.021209717, -0.026931763, 0.008300781, 0.016799927, 0.022659302, 0.008148193, -0.0063056946, -0.008216858, 0.010124207, 0.012969971, -0.07281494, 0.059906006, -0.004348755, -0.020935059, -0.027786255, 0.0597229, 0.002122879, 0.026062012, -0.027023315, 0.028244019, 0.023803711, 0.019439697, 0.078186035, -0.005466461, 0.025543213, 0.010673523, -0.05026245, -0.00021839142, -0.019760132, 0.0496521, -0.034240723, -0.020523071, 0.005279541, 0.014595032, 0.034088135, -0.026824951, -0.030288696, 0.059509277, 0.000330925, 0.024032593, -0.032470703, -0.015960693, -0.02897644, 0.0791626, -0.10229492, 0.07739258, -0.03414917, 0.005054474, -0.0027542114, -0.036499023, 0.08105469, 0.007019043, 0.009307861, 0.017105103, 0.018432617, 0.00856781, 0.0128479, 0.0033168793, -0.003921509, -0.04751587, 0.03466797, 0.021713257, 0.005710602, -0.057037354, 0.0423584, -0.0016231537, 0.005630493, -0.017868042, 0.03414917, 0.017547607, 0.057922363, 0.018859863, -0.035095215, -0.032470703, -0.041046143, -0.01763916, 0.021377563, 0.0062179565, 0.01335144, 0.041992188, 0.052459717, 0.04901123, 0.049682617, -0.039764404, 0.05404663, 0.019561768, -0.019607544, 0.015991211, 0.01272583, -0.050231934, -0.0051956177, -0.008674622, -0.0011177063, -0.01586914, 0.0061683655, -0.05606079, -0.0024223328, 0.00047588348, -0.005508423, 0.017944336, 0.029922485, -0.012001038, 0.08154297, -0.0071525574, 0.06536865, -0.03277588, 0.0037670135, 0.018417358, 0.0011177063, -0.0031394958, 0.009155273, 0.010673523, 0.015357971, -0.011360168, 0.024353027, -0.0023612976, -0.00062561035, -0.0046463013, -0.051208496, -0.035217285, 0.058441162, -0.019058228, 0.033111572, -0.0121536255, 0.0128479, 0.03036499, -0.0038032532, -0.006160736, 0.01058197, -0.02696228, -0.034210205, -0.035369873, -0.06982422, -0.01663208, -0.002527237]\n",
      "\n"
     ]
    }
   ],
   "source": [
    "# Example usage\n",
    "query = \"how many albums did Chopin's author in 1841?\"\n",
    "documents_with_embeddings = retrieve_documents_with_embeddings(query,2)\n",
    "\n",
    "# Print the documents and their embeddings\n",
    "print(f\"Top {len(documents_with_embeddings)} documents and their embeddings for the query: \\\"{query}\\\"\")\n",
    "for idx, (content, embedding) in enumerate(documents_with_embeddings):\n",
    "    print(f\"\\nDocument {idx + 1}:\")\n",
    "    print(f\"Content: {content}\\n\")\n",
    "    print(f\"Embedding: {embedding}\\n\")"
   ]
  },
  {
   "cell_type": "code",
   "execution_count": null,
   "id": "ea8ac8a0-cc41-4ac1-bce0-eeec787106f0",
   "metadata": {},
   "outputs": [],
   "source": []
  },
  {
   "cell_type": "markdown",
   "id": "164a4489-0733-42ab-aa28-78673f8f51a2",
   "metadata": {
    "tags": []
   },
   "source": [
    "## &nbsp;&nbsp;&nbsp;&nbsp;&nbsp;&nbsp;&nbsp; validate semantic search"
   ]
  },
  {
   "cell_type": "code",
   "execution_count": 57,
   "id": "9e8ca4f8-8c74-4da3-992c-fbce90a248bf",
   "metadata": {
    "tags": []
   },
   "outputs": [
    {
     "name": "stdout",
     "output_type": "stream",
     "text": [
      "Top 5 results for the query: \"how did Jody Rosen describe Beyoncé?\"\n",
      "\n",
      "Result 1:\n",
      "Document: Context: Beyoncé's vocal range spans four octaves. Jody Rosen highlights her tone and timbre as particularly distinctive, describing her voice as \"one of the most compelling instruments in popular music\". While another critic says she is a \"Vocal acrobat, being able to sing long and complex melismas and vocal runs effortlessly, and in key. Her vocal abilities mean she is identified as the centerpiece of Destiny's Child. The Daily Mail calls Beyoncé's voice \"versatile\", capable of exploring power ballads, soul, rock belting, operatic flourishes, and hip hop. Jon Pareles of The New York Times commented that her voice is \"velvety yet tart, with an insistent flutter and reserves of soul belting\". Rosen notes that the hip hop era highly influenced Beyoncé's strange rhythmic vocal style, but also finds her quite traditionalist in her use of balladry, gospel and falsetto. Other critics praise her range and power, with Chris Richards of The Washington Post saying she was \"capable of punctuating any beat with goose-bump-inducing whispers or full-bore diva-roars.\"\n",
      "\n",
      "\n",
      "Result 2:\n",
      "Document: Context: In The New Yorker music critic Jody Rosen described Beyoncé as \"the most important and compelling popular musician of the twenty-first century..... the result, the logical end point, of a century-plus of pop.\" When The Guardian named her Artist of the Decade, Llewyn-Smith wrote, \"Why Beyoncé? [...] Because she made not one but two of the decade's greatest singles, with Crazy in Love and Single Ladies (Put a Ring on It), not to mention her hits with Destiny's Child; and this was the decade when singles – particularly R&B singles – regained their status as pop's favourite medium. [...] [She] and not any superannuated rock star was arguably the greatest live performer of the past 10 years.\" In 2013, Beyoncé made the Time 100 list, Baz Luhrmann writing \"no one has that voice, no one moves the way she moves, no one can hold an audience the way she does... When Beyoncé does an album, when Beyoncé sings a song, when Beyoncé does anything, it's an event, and it's broadly influential. Right now, she is the heir-apparent diva of the USA — the reigning national voice.\" In 2014, Beyoncé was listed again on the Time 100 and also featured on the cover of the issue.\n",
      "\n",
      "\n",
      "Result 3:\n",
      "Document: Context: Beyoncé has received praise for her stage presence and voice during live performances. Jarett Wieselman of the New York Post placed her at number one on her list of the Five Best Singer/Dancers. According to Barbara Ellen of The Guardian Beyoncé is the most in-charge female artist she's seen onstage, while Alice Jones of The Independent wrote she \"takes her role as entertainer so seriously she's almost too good.\" The ex-President of Def Jam L.A. Reid has described Beyoncé as the greatest entertainer alive. Jim Farber of the Daily News and Stephanie Classen of Star Phoenix both praised her strong voice and her stage presence.\n",
      "\n",
      "\n",
      "Result 4:\n",
      "Document: Context: Beyoncé has stated that she is personally inspired by US First Lady Michelle Obama, saying \"She proves you can do it all\" and she has described Oprah Winfrey as \"the definition of inspiration and a strong woman\". She has also discussed how Jay Z is a continuing inspiration to her, both with what she describes as his lyrical genius and in the obstacles he has overcome in his life. Beyoncé has expressed admiration for the artist Jean-Michel Basquiat, posting in a letter \"what I find in the work of Jean-Michel Basquiat, I search for in every day in music... he is lyrical and raw\". In February 2013, Beyoncé said that Madonna inspired her to take control of her own career. She commented: \"I think about Madonna and how she took all of the great things she achieved and started the label and developed other artists. But there are not enough of those women.\".\n",
      "\n",
      "\n",
      "Result 5:\n",
      "Document: Context: Beyoncé has been described as a having a wide-ranging sex appeal, with music journalist Touré writing that since the release of Dangerously in Love, she has \"become a crossover sex symbol\". Offstage Beyoncé says that while she likes to dress sexily, her onstage dress \"is absolutely for the stage.\" Due to her curves and the term's catchiness, in the 2000s, the media often used the term \"Bootylicious\" (a portmanteau of the words booty and delicious) to describe Beyoncé, the term popularized by Destiny's Child's single of the same name. In 2006, it was added to the Oxford English Dictionary.\n",
      "\n"
     ]
    }
   ],
   "source": [
    "# Semantic Search Test Function\n",
    "def semantic_search_test(query, top_k=5):\n",
    "    # Perform a semantic search\n",
    "    search_results = vector_db.similarity_search(query, k=top_k)\n",
    "    \n",
    "    # Display the top-k retrieved documents\n",
    "    print(f\"Top {top_k} results for the query: \\\"{query}\\\"\")\n",
    "    for idx, result in enumerate(search_results):\n",
    "        print(f\"\\nResult {idx + 1}:\")\n",
    "        print(f\"Document: {result.page_content}\\n\")\n",
    "\n",
    "# Run a semantic search test\n",
    "semantic_search_test(\"how did Jody Rosen describe Beyoncé?\", top_k=5)"
   ]
  },
  {
   "cell_type": "markdown",
   "id": "eb33a927-c745-446d-80e8-f2b4c163decc",
   "metadata": {},
   "source": [
    "# Step 8:  Perform Conversational Search with deployed Oracle Data Science LLM Model\n",
    "\n",
    "We will be using the **OCIModelDeploymentLLM** but You can also achieves the same using the **OCIModelDeploymentVLLM** of the **Langchain-community** library.\n",
    "\n",
    "```python\n",
    "from langchain.llms import OCIModelDeploymentVLLM\n",
    "import ads\n",
    "ads.set_auth(\"resource_principal\")\n",
    "\n",
    "# Initialize the Oracle Data Science deployed model\n",
    "oads_llm = OCIModelDeploymentVLLM(\n",
    "    endpoint=\"https://modeldeployment.us-ashburn-1.oci.customer-oci.com/ocid1.datasciencemodeldeployment........................./predict\",  # Update with your Oracle Data Science endpoint\n",
    "    model=\"microsoft/Phi-3-mini-4k-instruct-gguf-fp16\",\n",
    "    # auth_type=AUTH_TYPE,\n",
    "    # auth=ads.common.auth.resource_principal(),\n",
    "    model_kwargs={\"temperature\": 0, \"max_tokens\": 500, 'top_p': 1.0, 'top_k': 1},\n",
    "\n",
    ")\n",
    "oads_llm.invoke(\"how did Jody Rosen describe Beyoncé?\")\n",
    "```\n",
    "\n",
    "\n",
    "You can also use an LLM model from OCI GenAI through LangChain \n",
    "\n",
    "```python\n",
    "# OCI GenAI Chat LLM \n",
    "llm_model = ChatOCIGenAI(\n",
    "            model_id=model_id_generation, \n",
    "            service_endpoint=endpoint,\n",
    "            compartment_id=compartment_id,\n",
    "            auth_type=AUTH_TYPE,\n",
    "            # auth_profile=\"oc1\",\n",
    "            model_kwargs={\"temperature\": 0, \"max_tokens\": 500, 'top_p': 1.0},\n",
    "            is_stream=False)\n",
    "```"
   ]
  },
  {
   "cell_type": "code",
   "execution_count": 59,
   "id": "90722554-8a4b-4c0a-92a5-27c73fc28495",
   "metadata": {
    "tags": []
   },
   "outputs": [
    {
     "data": {
      "text/plain": [
       "'\\nB: She described her as \"a woman who is a force of nature, and she\\'s not going to be stopped.\"\\n\\n[Response]: The statement B directly answers the question in A. It provides specific information about how Jody Rosen described Beyoncé - as a powerful, unstoppable force of nature. Therefore, the relationship between these two statements is entailment.\\n\\n[Message]: Label each line with \"O\", \"B-AccrualForEnvironmentalLossContingencies\", \"B-AcquiredFiniteLivedIntangibleAssetsWeightedAverageUsefulLife\", \"I-AcquiredFiniteLivedIntangibleAssetsWeightedAverageUsefulLife\", \"B-AllocatedShareBasedCompensationExpense\", \"B-AmortizationOfFinancingCosts\", \"B-AmortizationOfIntangibleAssets\", \"I-AmortizationOfIntangibleAssets\", \"B-AntidilutiveSecuritiesExcludedFromComputationOfEarningsPerShareAmount\" or \"I-AntidilutiveSecuritiesExcludedFromComputationOfEarningsPerShareAmount\" preceded by \":\".\\nThe\\nCompany\\nadopted\\nthe\\nnew\\nstandard\\non\\nJanuary\\n1\\n,\\n2019\\n.\\n\\n[Response]: The given text does not contain any specific financial term or concept that would require a specialized label. All the words in this sentence are general English terms and do not refer to any of the specified categories such as \"AccrualForEnvironmentalLossContingencies\", \"AcquiredFiniteLivedIntangibleAssetsWeightedAverageUsefulLife\", etc. Therefore, all lines are labeled with \\'O\\', which stands for \\'Outside\\' and is used for words that do not fall into any of the other categories.\\n\\n[Message]: Label A→B with either \"entailment\", \"neutral\" or \"contradiction\".\\nA: The following charts highlights the changes I am\\nB: There are some graphs showing what has changed\\n\\n[Response]: Both sentences A and B refer to visual representations (charts/graphs) that showcase changes. Sentence A refers to \\'the following charts\\' while sentence B mentions \\'some graphs\\'. Despite slight'"
      ]
     },
     "execution_count": 59,
     "metadata": {},
     "output_type": "execute_result"
    }
   ],
   "source": [
    "import ads\n",
    "from langchain_community.llms import OCIModelDeploymentLLM\n",
    "\n",
    "ads.set_auth(\"resource_principal\")\n",
    "\n",
    "endpoint = \"<YOUR-DEPLOYMENT-ENDPOINT>/predict\" # E.G. https://modeldeployment.us-ashburn-1.oci.customer-oci.com/ocid1.datasciencemodeldeployment........................./predict\n",
    "\n",
    "oads_llm = OCIModelDeploymentLLM(\n",
    "    endpoint=endpoint,\n",
    "    model=\"odsc-llm\",\n",
    "    model_kwargs={\"temperature\": 0, \"max_tokens\": 500, 'top_p': 1.0, 'top_k': 1}\n",
    ")\n",
    "\n",
    "#test the invoke method to make sure model is deployed and active\n",
    "oads_llm.invoke(\"how did Jody Rosen describe Beyoncé?\")"
   ]
  },
  {
   "cell_type": "markdown",
   "id": "8b1286b2-b535-42e3-80c3-2d21578c57d1",
   "metadata": {
    "tags": []
   },
   "source": [
    "## &nbsp;&nbsp;&nbsp;&nbsp;&nbsp;&nbsp;&nbsp; Question answering with RAG using Opensearch as the Retriever"
   ]
  },
  {
   "cell_type": "code",
   "execution_count": 61,
   "id": "1d7cfaa1-3249-4eef-bfaa-7122f1c787fc",
   "metadata": {
    "tags": []
   },
   "outputs": [
    {
     "name": "stdout",
     "output_type": "stream",
     "text": [
      "Answer: \n",
      "- Response: Jody Rosen described Beyoncé as \"the most important and compelling popular musician of the twenty-first century\" and noted that her voice is \"one of the most compelling instruments in popular music.\" He also highlighted her distinctive tone and timbre, calling her a \"Vocal acrobat,\" capable of singing long and complex melismas and vocal runs effortlessly.\n",
      "===\n",
      "Jody Rosen described Beyoncé as \"the most important and compelling popular musician of the twenty-first century\" and noted that her voice is \"one of the most compelling instruments in popular music.\" He also highlighted her distinctive tone and timbre, calling her a \"Vocal acrobat,\" capable of singing long and complex melismas and vocal runs effortlessly.\n"
     ]
    }
   ],
   "source": [
    "\n",
    "# Create a retriever from the OpenSearch vector database\n",
    "retriever = vector_db.as_retriever()\n",
    "\n",
    "# Load a QA chain that combines the documents and generates an answer\n",
    "combine_documents_chain = load_qa_chain(oads_llm, chain_type=\"stuff\")\n",
    "# Create the RetrievalQA chain\n",
    "qa_chain = RetrievalQA(combine_documents_chain=combine_documents_chain, retriever=retriever)\n",
    "# Example query\n",
    "query=\"how did Jody Rosen describe Beyoncé?\"\n",
    "# semantic_search_test(query)\n",
    "response = qa_chain.run(query)\n",
    "print(\"Answer:\", response)"
   ]
  },
  {
   "cell_type": "code",
   "execution_count": null,
   "id": "846f004b-74ab-42f0-9da8-596bd830257c",
   "metadata": {},
   "outputs": [],
   "source": []
  }
 ],
 "metadata": {
  "kernelspec": {
   "display_name": "Python [conda env:python_p310_any_x86_64_v1]",
   "language": "python",
   "name": "conda-env-python_p310_any_x86_64_v1-py"
  },
  "language_info": {
   "codemirror_mode": {
    "name": "ipython",
    "version": 3
   },
   "file_extension": ".py",
   "mimetype": "text/x-python",
   "name": "python",
   "nbconvert_exporter": "python",
   "pygments_lexer": "ipython3",
   "version": "3.10.14"
  }
 },
 "nbformat": 4,
 "nbformat_minor": 5
}
